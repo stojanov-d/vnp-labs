{
 "cells": [
  {
   "cell_type": "markdown",
   "metadata": {},
   "source": [
    "---\n",
    "# Install the required packages"
   ]
  },
  {
   "cell_type": "markdown",
   "metadata": {},
   "source": [
    "If needed install the following packages:"
   ]
  },
  {
   "cell_type": "code",
   "execution_count": 43,
   "metadata": {},
   "outputs": [
    {
     "name": "stdout",
     "output_type": "stream",
     "text": [
      "Collecting tensorflow\n",
      "  Using cached tensorflow-2.18.0-cp312-cp312-manylinux_2_17_x86_64.manylinux2014_x86_64.whl.metadata (4.1 kB)\n",
      "Collecting keras\n",
      "  Downloading keras-3.8.0-py3-none-any.whl.metadata (5.8 kB)\n",
      "Collecting absl-py>=1.0.0 (from tensorflow)\n",
      "  Downloading absl_py-2.1.0-py3-none-any.whl.metadata (2.3 kB)\n",
      "Collecting astunparse>=1.6.0 (from tensorflow)\n",
      "  Downloading astunparse-1.6.3-py2.py3-none-any.whl.metadata (4.4 kB)\n",
      "Collecting flatbuffers>=24.3.25 (from tensorflow)\n",
      "  Downloading flatbuffers-24.12.23-py2.py3-none-any.whl.metadata (876 bytes)\n",
      "Collecting gast!=0.5.0,!=0.5.1,!=0.5.2,>=0.2.1 (from tensorflow)\n",
      "  Downloading gast-0.6.0-py3-none-any.whl.metadata (1.3 kB)\n",
      "Collecting google-pasta>=0.1.1 (from tensorflow)\n",
      "  Downloading google_pasta-0.2.0-py3-none-any.whl.metadata (814 bytes)\n",
      "Collecting libclang>=13.0.0 (from tensorflow)\n",
      "  Using cached libclang-18.1.1-py2.py3-none-manylinux2010_x86_64.whl.metadata (5.2 kB)\n",
      "Collecting opt-einsum>=2.3.2 (from tensorflow)\n",
      "  Downloading opt_einsum-3.4.0-py3-none-any.whl.metadata (6.3 kB)\n",
      "Requirement already satisfied: packaging in /home/david/miniconda3/envs/VNP/lib/python3.12/site-packages (from tensorflow) (24.2)\n",
      "Collecting protobuf!=4.21.0,!=4.21.1,!=4.21.2,!=4.21.3,!=4.21.4,!=4.21.5,<6.0.0dev,>=3.20.3 (from tensorflow)\n",
      "  Downloading protobuf-5.29.3-cp38-abi3-manylinux2014_x86_64.whl.metadata (592 bytes)\n",
      "Requirement already satisfied: requests<3,>=2.21.0 in /home/david/miniconda3/envs/VNP/lib/python3.12/site-packages (from tensorflow) (2.32.3)\n",
      "Requirement already satisfied: setuptools in /home/david/miniconda3/envs/VNP/lib/python3.12/site-packages (from tensorflow) (75.1.0)\n",
      "Requirement already satisfied: six>=1.12.0 in /home/david/miniconda3/envs/VNP/lib/python3.12/site-packages (from tensorflow) (1.16.0)\n",
      "Collecting termcolor>=1.1.0 (from tensorflow)\n",
      "  Downloading termcolor-2.5.0-py3-none-any.whl.metadata (6.1 kB)\n",
      "Requirement already satisfied: typing-extensions>=3.6.6 in /home/david/miniconda3/envs/VNP/lib/python3.12/site-packages (from tensorflow) (4.12.2)\n",
      "Collecting wrapt>=1.11.0 (from tensorflow)\n",
      "  Downloading wrapt-1.17.1-cp312-cp312-manylinux_2_5_x86_64.manylinux1_x86_64.manylinux_2_17_x86_64.manylinux2014_x86_64.whl.metadata (6.4 kB)\n",
      "Collecting grpcio<2.0,>=1.24.3 (from tensorflow)\n",
      "  Downloading grpcio-1.69.0-cp312-cp312-manylinux_2_17_x86_64.manylinux2014_x86_64.whl.metadata (3.9 kB)\n",
      "Collecting tensorboard<2.19,>=2.18 (from tensorflow)\n",
      "  Using cached tensorboard-2.18.0-py3-none-any.whl.metadata (1.6 kB)\n",
      "Requirement already satisfied: numpy<2.1.0,>=1.26.0 in /home/david/miniconda3/envs/VNP/lib/python3.12/site-packages (from tensorflow) (1.26.4)\n",
      "Collecting h5py>=3.11.0 (from tensorflow)\n",
      "  Downloading h5py-3.12.1-cp312-cp312-manylinux_2_17_x86_64.manylinux2014_x86_64.whl.metadata (2.5 kB)\n",
      "Collecting ml-dtypes<0.5.0,>=0.4.0 (from tensorflow)\n",
      "  Downloading ml_dtypes-0.4.1-cp312-cp312-manylinux_2_17_x86_64.manylinux2014_x86_64.whl.metadata (20 kB)\n",
      "Collecting rich (from keras)\n",
      "  Downloading rich-13.9.4-py3-none-any.whl.metadata (18 kB)\n",
      "Collecting namex (from keras)\n",
      "  Downloading namex-0.0.8-py3-none-any.whl.metadata (246 bytes)\n",
      "Collecting optree (from keras)\n",
      "  Downloading optree-0.13.1-cp312-cp312-manylinux_2_17_x86_64.manylinux2014_x86_64.whl.metadata (47 kB)\n",
      "Requirement already satisfied: wheel<1.0,>=0.23.0 in /home/david/miniconda3/envs/VNP/lib/python3.12/site-packages (from astunparse>=1.6.0->tensorflow) (0.44.0)\n",
      "Requirement already satisfied: charset-normalizer<4,>=2 in /home/david/miniconda3/envs/VNP/lib/python3.12/site-packages (from requests<3,>=2.21.0->tensorflow) (3.3.2)\n",
      "Requirement already satisfied: idna<4,>=2.5 in /home/david/miniconda3/envs/VNP/lib/python3.12/site-packages (from requests<3,>=2.21.0->tensorflow) (3.7)\n",
      "Requirement already satisfied: urllib3<3,>=1.21.1 in /home/david/miniconda3/envs/VNP/lib/python3.12/site-packages (from requests<3,>=2.21.0->tensorflow) (2.2.3)\n",
      "Requirement already satisfied: certifi>=2017.4.17 in /home/david/miniconda3/envs/VNP/lib/python3.12/site-packages (from requests<3,>=2.21.0->tensorflow) (2024.12.14)\n",
      "Collecting markdown>=2.6.8 (from tensorboard<2.19,>=2.18->tensorflow)\n",
      "  Downloading Markdown-3.7-py3-none-any.whl.metadata (7.0 kB)\n",
      "Collecting tensorboard-data-server<0.8.0,>=0.7.0 (from tensorboard<2.19,>=2.18->tensorflow)\n",
      "  Downloading tensorboard_data_server-0.7.2-py3-none-manylinux_2_31_x86_64.whl.metadata (1.1 kB)\n",
      "Collecting werkzeug>=1.0.1 (from tensorboard<2.19,>=2.18->tensorflow)\n",
      "  Downloading werkzeug-3.1.3-py3-none-any.whl.metadata (3.7 kB)\n",
      "Collecting markdown-it-py>=2.2.0 (from rich->keras)\n",
      "  Downloading markdown_it_py-3.0.0-py3-none-any.whl.metadata (6.9 kB)\n",
      "Requirement already satisfied: pygments<3.0.0,>=2.13.0 in /home/david/miniconda3/envs/VNP/lib/python3.12/site-packages (from rich->keras) (2.15.1)\n",
      "Collecting mdurl~=0.1 (from markdown-it-py>=2.2.0->rich->keras)\n",
      "  Downloading mdurl-0.1.2-py3-none-any.whl.metadata (1.6 kB)\n",
      "Requirement already satisfied: MarkupSafe>=2.1.1 in /home/david/miniconda3/envs/VNP/lib/python3.12/site-packages (from werkzeug>=1.0.1->tensorboard<2.19,>=2.18->tensorflow) (2.1.3)\n",
      "Using cached tensorflow-2.18.0-cp312-cp312-manylinux_2_17_x86_64.manylinux2014_x86_64.whl (615.5 MB)\n",
      "Downloading keras-3.8.0-py3-none-any.whl (1.3 MB)\n",
      "\u001b[2K   \u001b[38;2;114;156;31m━━━━━━━━━━━━━━━━━━━━━━━━━━━━━━━━━━━━━━━━\u001b[0m \u001b[32m1.3/1.3 MB\u001b[0m \u001b[31m4.0 MB/s\u001b[0m eta \u001b[36m0:00:00\u001b[0m MB/s\u001b[0m eta \u001b[36m0:00:01\u001b[0m\n",
      "\u001b[?25hDownloading absl_py-2.1.0-py3-none-any.whl (133 kB)\n",
      "Downloading astunparse-1.6.3-py2.py3-none-any.whl (12 kB)\n",
      "Downloading flatbuffers-24.12.23-py2.py3-none-any.whl (30 kB)\n",
      "Downloading gast-0.6.0-py3-none-any.whl (21 kB)\n",
      "Downloading google_pasta-0.2.0-py3-none-any.whl (57 kB)\n",
      "Downloading grpcio-1.69.0-cp312-cp312-manylinux_2_17_x86_64.manylinux2014_x86_64.whl (5.9 MB)\n",
      "\u001b[2K   \u001b[38;2;114;156;31m━━━━━━━━━━━━━━━━━━━━━━━━━━━━━━━━━━━━━━━━\u001b[0m \u001b[32m5.9/5.9 MB\u001b[0m \u001b[31m4.5 MB/s\u001b[0m eta \u001b[36m0:00:00\u001b[0m MB/s\u001b[0m eta \u001b[36m0:00:01\u001b[0m:01\u001b[0m\n",
      "\u001b[?25hDownloading h5py-3.12.1-cp312-cp312-manylinux_2_17_x86_64.manylinux2014_x86_64.whl (5.4 MB)\n",
      "\u001b[2K   \u001b[38;2;114;156;31m━━━━━━━━━━━━━━━━━━━━━━━━━━━━━━━━━━━━━━━━\u001b[0m \u001b[32m5.4/5.4 MB\u001b[0m \u001b[31m4.7 MB/s\u001b[0m eta \u001b[36m0:00:00\u001b[0m[31m4.8 MB/s\u001b[0m eta \u001b[36m0:00:01\u001b[0m\n",
      "\u001b[?25hUsing cached libclang-18.1.1-py2.py3-none-manylinux2010_x86_64.whl (24.5 MB)\n",
      "Downloading ml_dtypes-0.4.1-cp312-cp312-manylinux_2_17_x86_64.manylinux2014_x86_64.whl (2.2 MB)\n",
      "\u001b[2K   \u001b[38;2;114;156;31m━━━━━━━━━━━━━━━━━━━━━━━━━━━━━━━━━━━━━━━━\u001b[0m \u001b[32m2.2/2.2 MB\u001b[0m \u001b[31m5.1 MB/s\u001b[0m eta \u001b[36m0:00:00\u001b[0m[31m4.5 MB/s\u001b[0m eta \u001b[36m0:00:01\u001b[0m\n",
      "\u001b[?25hDownloading opt_einsum-3.4.0-py3-none-any.whl (71 kB)\n",
      "Downloading protobuf-5.29.3-cp38-abi3-manylinux2014_x86_64.whl (319 kB)\n",
      "Using cached tensorboard-2.18.0-py3-none-any.whl (5.5 MB)\n",
      "Downloading termcolor-2.5.0-py3-none-any.whl (7.8 kB)\n",
      "Downloading wrapt-1.17.1-cp312-cp312-manylinux_2_5_x86_64.manylinux1_x86_64.manylinux_2_17_x86_64.manylinux2014_x86_64.whl (89 kB)\n",
      "Downloading namex-0.0.8-py3-none-any.whl (5.8 kB)\n",
      "Downloading optree-0.13.1-cp312-cp312-manylinux_2_17_x86_64.manylinux2014_x86_64.whl (385 kB)\n",
      "Downloading rich-13.9.4-py3-none-any.whl (242 kB)\n",
      "Downloading Markdown-3.7-py3-none-any.whl (106 kB)\n",
      "Downloading markdown_it_py-3.0.0-py3-none-any.whl (87 kB)\n",
      "Downloading tensorboard_data_server-0.7.2-py3-none-manylinux_2_31_x86_64.whl (6.6 MB)\n",
      "\u001b[2K   \u001b[38;2;114;156;31m━━━━━━━━━━━━━━━━━━━━━━━━━━━━━━━━━━━━━━━━\u001b[0m \u001b[32m6.6/6.6 MB\u001b[0m \u001b[31m4.1 MB/s\u001b[0m eta \u001b[36m0:00:00\u001b[0mm eta \u001b[36m0:00:01\u001b[0m[36m0:00:01\u001b[0m\n",
      "\u001b[?25hDownloading werkzeug-3.1.3-py3-none-any.whl (224 kB)\n",
      "Downloading mdurl-0.1.2-py3-none-any.whl (10.0 kB)\n",
      "Installing collected packages: namex, libclang, flatbuffers, wrapt, werkzeug, termcolor, tensorboard-data-server, protobuf, optree, opt-einsum, ml-dtypes, mdurl, markdown, h5py, grpcio, google-pasta, gast, astunparse, absl-py, tensorboard, markdown-it-py, rich, keras, tensorflow\n",
      "Successfully installed absl-py-2.1.0 astunparse-1.6.3 flatbuffers-24.12.23 gast-0.6.0 google-pasta-0.2.0 grpcio-1.69.0 h5py-3.12.1 keras-3.8.0 libclang-18.1.1 markdown-3.7 markdown-it-py-3.0.0 mdurl-0.1.2 ml-dtypes-0.4.1 namex-0.0.8 opt-einsum-3.4.0 optree-0.13.1 protobuf-5.29.3 rich-13.9.4 tensorboard-2.18.0 tensorboard-data-server-0.7.2 tensorflow-2.18.0 termcolor-2.5.0 werkzeug-3.1.3 wrapt-1.17.1\n"
     ]
    }
   ],
   "source": [
    "!pip install tensorflow keras"
   ]
  },
  {
   "cell_type": "code",
   "execution_count": 22,
   "metadata": {},
   "outputs": [
    {
     "name": "stdout",
     "output_type": "stream",
     "text": [
      "Collecting scikit-learn\n",
      "  Downloading scikit_learn-1.6.1-cp312-cp312-manylinux_2_17_x86_64.manylinux2014_x86_64.whl.metadata (18 kB)\n",
      "Requirement already satisfied: numpy>=1.19.5 in /home/david/miniconda3/envs/VNP/lib/python3.12/site-packages (from scikit-learn) (1.26.4)\n",
      "Collecting scipy>=1.6.0 (from scikit-learn)\n",
      "  Downloading scipy-1.15.1-cp312-cp312-manylinux_2_17_x86_64.manylinux2014_x86_64.whl.metadata (61 kB)\n",
      "Collecting joblib>=1.2.0 (from scikit-learn)\n",
      "  Downloading joblib-1.4.2-py3-none-any.whl.metadata (5.4 kB)\n",
      "Collecting threadpoolctl>=3.1.0 (from scikit-learn)\n",
      "  Downloading threadpoolctl-3.5.0-py3-none-any.whl.metadata (13 kB)\n",
      "Downloading scikit_learn-1.6.1-cp312-cp312-manylinux_2_17_x86_64.manylinux2014_x86_64.whl (13.1 MB)\n",
      "\u001b[2K   \u001b[38;2;114;156;31m━━━━━━━━━━━━━━━━━━━━━━━━━━━━━━━━━━━━━━━━\u001b[0m \u001b[32m13.1/13.1 MB\u001b[0m \u001b[31m5.5 MB/s\u001b[0m eta \u001b[36m0:00:00\u001b[0mm eta \u001b[36m0:00:01\u001b[0m[36m0:00:01\u001b[0m\n",
      "\u001b[?25hDownloading joblib-1.4.2-py3-none-any.whl (301 kB)\n",
      "Downloading scipy-1.15.1-cp312-cp312-manylinux_2_17_x86_64.manylinux2014_x86_64.whl (40.2 MB)\n",
      "\u001b[2K   \u001b[38;2;114;156;31m━━━━━━━━━━━━━━━━━━━━━━━━━━━━━━━━━━━━━━━━\u001b[0m \u001b[32m40.2/40.2 MB\u001b[0m \u001b[31m5.5 MB/s\u001b[0m eta \u001b[36m0:00:00\u001b[0mm eta \u001b[36m0:00:01\u001b[0m[36m0:00:01\u001b[0m\n",
      "\u001b[?25hDownloading threadpoolctl-3.5.0-py3-none-any.whl (18 kB)\n",
      "Installing collected packages: threadpoolctl, scipy, joblib, scikit-learn\n",
      "Successfully installed joblib-1.4.2 scikit-learn-1.6.1 scipy-1.15.1 threadpoolctl-3.5.0\n"
     ]
    }
   ],
   "source": [
    "!pip install scikit-learn"
   ]
  },
  {
   "cell_type": "markdown",
   "metadata": {},
   "source": [
    "---\n",
    "# Imports"
   ]
  },
  {
   "cell_type": "code",
   "execution_count": 67,
   "metadata": {},
   "outputs": [],
   "source": [
    "# Write your code here. Add as many boxes as you need.\n",
    "import pandas as pd\n",
    "import matplotlib.pyplot as plt\n",
    "import seaborn as sns\n",
    "import numpy as np"
   ]
  },
  {
   "cell_type": "markdown",
   "metadata": {},
   "source": [
    "---\n",
    "# Laboratory Exercise - Run Mode (8 points)"
   ]
  },
  {
   "cell_type": "markdown",
   "metadata": {},
   "source": [
    "## Introduction\n",
    "In this laboratory assignment, the focus is on time series forecasting, specifically targeting the prediction of **R peak interval** for a patient. Your task involves employing deep learning methods to forecast the **required measurements**. To accomplish this you will be using a patient's ECG measurements from the MITDB database, which consists of the following values:\n",
    "\n",
    "- R peak Interval (int: the time the R peak appeared)\n",
    "- Beat Annotation (string: the beat type)\n",
    "- Episode Annotation (string: the episode type)\n",
    "\n",
    "**Note: You are required to perform this laboratory assignment on your local machine.**"
   ]
  },
  {
   "cell_type": "markdown",
   "metadata": {},
   "source": [
    "\n",
    "# Read the data"
   ]
  },
  {
   "cell_type": "markdown",
   "metadata": {},
   "source": [
    "You are required to load the given data from the `201_cleaned.ann` file (csv format). Load the data into a `pandas dataframe` and display the first 5 rows of the dataframe."
   ]
  },
  {
   "cell_type": "code",
   "execution_count": 2,
   "metadata": {},
   "outputs": [
    {
     "data": {
      "text/html": [
       "<div>\n",
       "<style scoped>\n",
       "    .dataframe tbody tr th:only-of-type {\n",
       "        vertical-align: middle;\n",
       "    }\n",
       "\n",
       "    .dataframe tbody tr th {\n",
       "        vertical-align: top;\n",
       "    }\n",
       "\n",
       "    .dataframe thead th {\n",
       "        text-align: right;\n",
       "    }\n",
       "</style>\n",
       "<table border=\"1\" class=\"dataframe\">\n",
       "  <thead>\n",
       "    <tr style=\"text-align: right;\">\n",
       "      <th></th>\n",
       "      <th>R peak Interval</th>\n",
       "      <th>Beat Annotation</th>\n",
       "      <th>Episode Annotation</th>\n",
       "    </tr>\n",
       "  </thead>\n",
       "  <tbody>\n",
       "    <tr>\n",
       "      <th>0</th>\n",
       "      <td>55</td>\n",
       "      <td>N</td>\n",
       "      <td>(AFIB</td>\n",
       "    </tr>\n",
       "    <tr>\n",
       "      <th>1</th>\n",
       "      <td>144</td>\n",
       "      <td>N</td>\n",
       "      <td>(AFIB</td>\n",
       "    </tr>\n",
       "    <tr>\n",
       "      <th>2</th>\n",
       "      <td>238</td>\n",
       "      <td>N</td>\n",
       "      <td>(AFIB</td>\n",
       "    </tr>\n",
       "    <tr>\n",
       "      <th>3</th>\n",
       "      <td>314</td>\n",
       "      <td>N</td>\n",
       "      <td>(AFIB</td>\n",
       "    </tr>\n",
       "    <tr>\n",
       "      <th>4</th>\n",
       "      <td>412</td>\n",
       "      <td>N</td>\n",
       "      <td>(AFIB</td>\n",
       "    </tr>\n",
       "  </tbody>\n",
       "</table>\n",
       "</div>"
      ],
      "text/plain": [
       "   R peak Interval Beat Annotation Episode Annotation\n",
       "0               55               N              (AFIB\n",
       "1              144               N              (AFIB\n",
       "2              238               N              (AFIB\n",
       "3              314               N              (AFIB\n",
       "4              412               N              (AFIB"
      ]
     },
     "execution_count": 2,
     "metadata": {},
     "output_type": "execute_result"
    }
   ],
   "source": [
    "# Write your code here. Add as many boxes as you need.\n",
    "df = pd.read_csv('../datasets/201_cleaned.ann')\n",
    "df.head()"
   ]
  },
  {
   "cell_type": "markdown",
   "metadata": {},
   "source": [
    "---\n",
    "# EDA"
   ]
  },
  {
   "cell_type": "markdown",
   "metadata": {},
   "source": [
    "## Explore the Beat Annotation Distribution"
   ]
  },
  {
   "cell_type": "code",
   "execution_count": 3,
   "metadata": {},
   "outputs": [
    {
     "data": {
      "text/plain": [
       "<Axes: xlabel='Beat Annotation', ylabel='Count'>"
      ]
     },
     "execution_count": 3,
     "metadata": {},
     "output_type": "execute_result"
    },
    {
     "data": {
      "image/png": "[encoded data removed]",
      "text/plain": [
       "<Figure size 640x480 with 1 Axes>"
      ]
     },
     "metadata": {},
     "output_type": "display_data"
    }
   ],
   "source": [
    "sns.histplot(df['Beat Annotation'])"
   ]
  },
  {
   "cell_type": "markdown",
   "metadata": {},
   "source": [
    "## Explore the Episode Annotation Distribution"
   ]
  },
  {
   "cell_type": "code",
   "execution_count": 4,
   "metadata": {},
   "outputs": [
    {
     "data": {
      "text/plain": [
       "<Axes: xlabel='Episode Annotation', ylabel='Count'>"
      ]
     },
     "execution_count": 4,
     "metadata": {},
     "output_type": "execute_result"
    },
    {
     "data": {
      "image/png": "[encoded data removed]",
      "text/plain": [
       "<Figure size 640x480 with 1 Axes>"
      ]
     },
     "metadata": {},
     "output_type": "display_data"
    }
   ],
   "source": [
    "# Write your code here. Add as many boxes as you need.\n",
    "sns.histplot(df['Episode Annotation'])"
   ]
  },
  {
   "cell_type": "markdown",
   "metadata": {},
   "source": [
    "---\n",
    "# Feature Engineering"
   ]
  },
  {
   "cell_type": "markdown",
   "metadata": {},
   "source": [
    "## Re-Labeling the data (Beat Annotation)\n",
    "\n",
    "Re-label the data into 3 beat types:\n",
    "- Normal Beat (N)\n",
    "- Ventricular Beat (V)\n",
    "- Other Beats (Other)"
   ]
  },
  {
   "cell_type": "code",
   "execution_count": 5,
   "metadata": {},
   "outputs": [
    {
     "name": "stdout",
     "output_type": "stream",
     "text": [
      "['Normal Beat' 'Other' 'Ventricular Beat']\n"
     ]
    }
   ],
   "source": [
    "# Write your code here. Add as many boxes as you need.\n",
    "mapping = {\n",
    "    'N': 'Normal Beat',\n",
    "    'V': 'Ventricular Beat'\n",
    "}\n",
    "df['Beat Annotation'] = df['Beat Annotation'].apply(lambda x: mapping.get(x, 'Other'))\n",
    "print(df['Beat Annotation'].unique())\n"
   ]
  },
  {
   "cell_type": "markdown",
   "metadata": {},
   "source": [
    "Check that the mapping worked:"
   ]
  },
  {
   "cell_type": "code",
   "execution_count": 6,
   "metadata": {},
   "outputs": [
    {
     "data": {
      "text/plain": [
       "<Axes: xlabel='Beat Annotation', ylabel='Count'>"
      ]
     },
     "execution_count": 6,
     "metadata": {},
     "output_type": "execute_result"
    },
    {
     "data": {
      "image/png": "[encoded data removed]",
      "text/plain": [
       "<Figure size 640x480 with 1 Axes>"
      ]
     },
     "metadata": {},
     "output_type": "display_data"
    }
   ],
   "source": [
    "# Write your code here. Add as many boxes as you need.\n",
    "sns.histplot(df['Beat Annotation'])\n"
   ]
  },
  {
   "cell_type": "markdown",
   "metadata": {},
   "source": [
    "## Re-Labeling the data (Episode Annotation)\n",
    "\n",
    "Re-label the data into 3 beat types:\n",
    "- Normal Episode: (N\n",
    "- Atrial Fibrillation: (AFIB\n",
    "- Other Episode: (Other"
   ]
  },
  {
   "cell_type": "code",
   "execution_count": 7,
   "metadata": {},
   "outputs": [
    {
     "name": "stdout",
     "output_type": "stream",
     "text": [
      "['Atrial Fibrillation' 'Other Episode' 'Normal Episode']\n"
     ]
    }
   ],
   "source": [
    "# Write your code here. Add as many boxes as you need.\n",
    "mapping_2 = {\n",
    "    \"(N\":\"Normal Episode\",\n",
    "    \"(AFIB\":\"Atrial Fibrillation\"\n",
    "}\n",
    "\n",
    "df['Episode Annotation'] = df['Episode Annotation'].apply(lambda x: mapping_2.get(x, 'Other Episode'))\n",
    "print(df['Episode Annotation'].unique())"
   ]
  },
  {
   "cell_type": "markdown",
   "metadata": {},
   "source": [
    "Check that the mapping worked:"
   ]
  },
  {
   "cell_type": "code",
   "execution_count": 8,
   "metadata": {},
   "outputs": [
    {
     "data": {
      "text/plain": [
       "<Axes: xlabel='Episode Annotation', ylabel='Count'>"
      ]
     },
     "execution_count": 8,
     "metadata": {},
     "output_type": "execute_result"
    },
    {
     "data": {
      "image/png": "[encoded data removed]",
      "text/plain": [
       "<Figure size 640x480 with 1 Axes>"
      ]
     },
     "metadata": {},
     "output_type": "display_data"
    }
   ],
   "source": [
    "# Write your code here. Add as many boxes as you need.\n",
    "sns.histplot(df['Episode Annotation'])"
   ]
  },
  {
   "cell_type": "markdown",
   "metadata": {},
   "source": [
    "## Create Lag Features (5 prev values) for R peak Interval measurement"
   ]
  },
  {
   "cell_type": "markdown",
   "metadata": {},
   "source": [
    "Apply a lag for the R peak Interval, creating a set of features representing the historical patient data. To maintain dataset integrity, eliminate any resulting missing values at the beginning of the dataset.\n",
    "\n",
    "Hint: Use `df['column_name'].shift(period)`. Check the documentation at https://pandas.pydata.org/docs/reference/api/pandas.DataFrame.shift.html."
   ]
  },
  {
   "cell_type": "code",
   "execution_count": 9,
   "metadata": {},
   "outputs": [],
   "source": [
    "# Write your code here. Add as many boxes as you need.\n",
    "lag = 5"
   ]
  },
  {
   "cell_type": "code",
   "execution_count": 10,
   "metadata": {},
   "outputs": [],
   "source": [
    "periods = range(lag, 0, -1)"
   ]
  },
  {
   "cell_type": "code",
   "execution_count": 11,
   "metadata": {},
   "outputs": [],
   "source": [
    "df_with_lag = df['R peak Interval'].shift(periods)"
   ]
  },
  {
   "cell_type": "markdown",
   "metadata": {},
   "source": [
    "Check that the mapping worked:"
   ]
  },
  {
   "cell_type": "code",
   "execution_count": 12,
   "metadata": {},
   "outputs": [
    {
     "data": {
      "text/html": [
       "<div>\n",
       "<style scoped>\n",
       "    .dataframe tbody tr th:only-of-type {\n",
       "        vertical-align: middle;\n",
       "    }\n",
       "\n",
       "    .dataframe tbody tr th {\n",
       "        vertical-align: top;\n",
       "    }\n",
       "\n",
       "    .dataframe thead th {\n",
       "        text-align: right;\n",
       "    }\n",
       "</style>\n",
       "<table border=\"1\" class=\"dataframe\">\n",
       "  <thead>\n",
       "    <tr style=\"text-align: right;\">\n",
       "      <th></th>\n",
       "      <th>R peak Interval_5</th>\n",
       "      <th>R peak Interval_4</th>\n",
       "      <th>R peak Interval_3</th>\n",
       "      <th>R peak Interval_2</th>\n",
       "      <th>R peak Interval_1</th>\n",
       "    </tr>\n",
       "  </thead>\n",
       "  <tbody>\n",
       "    <tr>\n",
       "      <th>0</th>\n",
       "      <td>NaN</td>\n",
       "      <td>NaN</td>\n",
       "      <td>NaN</td>\n",
       "      <td>NaN</td>\n",
       "      <td>NaN</td>\n",
       "    </tr>\n",
       "    <tr>\n",
       "      <th>1</th>\n",
       "      <td>NaN</td>\n",
       "      <td>NaN</td>\n",
       "      <td>NaN</td>\n",
       "      <td>NaN</td>\n",
       "      <td>55.0</td>\n",
       "    </tr>\n",
       "    <tr>\n",
       "      <th>2</th>\n",
       "      <td>NaN</td>\n",
       "      <td>NaN</td>\n",
       "      <td>NaN</td>\n",
       "      <td>55.0</td>\n",
       "      <td>144.0</td>\n",
       "    </tr>\n",
       "    <tr>\n",
       "      <th>3</th>\n",
       "      <td>NaN</td>\n",
       "      <td>NaN</td>\n",
       "      <td>55.0</td>\n",
       "      <td>144.0</td>\n",
       "      <td>238.0</td>\n",
       "    </tr>\n",
       "    <tr>\n",
       "      <th>4</th>\n",
       "      <td>NaN</td>\n",
       "      <td>55.0</td>\n",
       "      <td>144.0</td>\n",
       "      <td>238.0</td>\n",
       "      <td>314.0</td>\n",
       "    </tr>\n",
       "    <tr>\n",
       "      <th>...</th>\n",
       "      <td>...</td>\n",
       "      <td>...</td>\n",
       "      <td>...</td>\n",
       "      <td>...</td>\n",
       "      <td>...</td>\n",
       "    </tr>\n",
       "    <tr>\n",
       "      <th>1999</th>\n",
       "      <td>224485.0</td>\n",
       "      <td>224545.0</td>\n",
       "      <td>224739.0</td>\n",
       "      <td>224764.0</td>\n",
       "      <td>224987.0</td>\n",
       "    </tr>\n",
       "    <tr>\n",
       "      <th>2000</th>\n",
       "      <td>224545.0</td>\n",
       "      <td>224739.0</td>\n",
       "      <td>224764.0</td>\n",
       "      <td>224987.0</td>\n",
       "      <td>225145.0</td>\n",
       "    </tr>\n",
       "    <tr>\n",
       "      <th>2001</th>\n",
       "      <td>224739.0</td>\n",
       "      <td>224764.0</td>\n",
       "      <td>224987.0</td>\n",
       "      <td>225145.0</td>\n",
       "      <td>225206.0</td>\n",
       "    </tr>\n",
       "    <tr>\n",
       "      <th>2002</th>\n",
       "      <td>224764.0</td>\n",
       "      <td>224987.0</td>\n",
       "      <td>225145.0</td>\n",
       "      <td>225206.0</td>\n",
       "      <td>225383.0</td>\n",
       "    </tr>\n",
       "    <tr>\n",
       "      <th>2003</th>\n",
       "      <td>224987.0</td>\n",
       "      <td>225145.0</td>\n",
       "      <td>225206.0</td>\n",
       "      <td>225383.0</td>\n",
       "      <td>225410.0</td>\n",
       "    </tr>\n",
       "  </tbody>\n",
       "</table>\n",
       "<p>2004 rows × 5 columns</p>\n",
       "</div>"
      ],
      "text/plain": [
       "      R peak Interval_5  R peak Interval_4  R peak Interval_3  \\\n",
       "0                   NaN                NaN                NaN   \n",
       "1                   NaN                NaN                NaN   \n",
       "2                   NaN                NaN                NaN   \n",
       "3                   NaN                NaN               55.0   \n",
       "4                   NaN               55.0              144.0   \n",
       "...                 ...                ...                ...   \n",
       "1999           224485.0           224545.0           224739.0   \n",
       "2000           224545.0           224739.0           224764.0   \n",
       "2001           224739.0           224764.0           224987.0   \n",
       "2002           224764.0           224987.0           225145.0   \n",
       "2003           224987.0           225145.0           225206.0   \n",
       "\n",
       "      R peak Interval_2  R peak Interval_1  \n",
       "0                   NaN                NaN  \n",
       "1                   NaN               55.0  \n",
       "2                  55.0              144.0  \n",
       "3                 144.0              238.0  \n",
       "4                 238.0              314.0  \n",
       "...                 ...                ...  \n",
       "1999           224764.0           224987.0  \n",
       "2000           224987.0           225145.0  \n",
       "2001           225145.0           225206.0  \n",
       "2002           225206.0           225383.0  \n",
       "2003           225383.0           225410.0  \n",
       "\n",
       "[2004 rows x 5 columns]"
      ]
     },
     "execution_count": 12,
     "metadata": {},
     "output_type": "execute_result"
    }
   ],
   "source": [
    "# Write your code here. Add as many boxes as you need.\n",
    "df_with_lag"
   ]
  },
  {
   "cell_type": "code",
   "execution_count": 13,
   "metadata": {},
   "outputs": [],
   "source": [
    "df = pd.concat([df, df_with_lag], axis=1)"
   ]
  },
  {
   "cell_type": "code",
   "execution_count": 14,
   "metadata": {},
   "outputs": [
    {
     "data": {
      "text/html": [
       "<div>\n",
       "<style scoped>\n",
       "    .dataframe tbody tr th:only-of-type {\n",
       "        vertical-align: middle;\n",
       "    }\n",
       "\n",
       "    .dataframe tbody tr th {\n",
       "        vertical-align: top;\n",
       "    }\n",
       "\n",
       "    .dataframe thead th {\n",
       "        text-align: right;\n",
       "    }\n",
       "</style>\n",
       "<table border=\"1\" class=\"dataframe\">\n",
       "  <thead>\n",
       "    <tr style=\"text-align: right;\">\n",
       "      <th></th>\n",
       "      <th>R peak Interval</th>\n",
       "      <th>Beat Annotation</th>\n",
       "      <th>Episode Annotation</th>\n",
       "      <th>R peak Interval_5</th>\n",
       "      <th>R peak Interval_4</th>\n",
       "      <th>R peak Interval_3</th>\n",
       "      <th>R peak Interval_2</th>\n",
       "      <th>R peak Interval_1</th>\n",
       "    </tr>\n",
       "  </thead>\n",
       "  <tbody>\n",
       "    <tr>\n",
       "      <th>0</th>\n",
       "      <td>55</td>\n",
       "      <td>Normal Beat</td>\n",
       "      <td>Atrial Fibrillation</td>\n",
       "      <td>NaN</td>\n",
       "      <td>NaN</td>\n",
       "      <td>NaN</td>\n",
       "      <td>NaN</td>\n",
       "      <td>NaN</td>\n",
       "    </tr>\n",
       "    <tr>\n",
       "      <th>1</th>\n",
       "      <td>144</td>\n",
       "      <td>Normal Beat</td>\n",
       "      <td>Atrial Fibrillation</td>\n",
       "      <td>NaN</td>\n",
       "      <td>NaN</td>\n",
       "      <td>NaN</td>\n",
       "      <td>NaN</td>\n",
       "      <td>55.0</td>\n",
       "    </tr>\n",
       "    <tr>\n",
       "      <th>2</th>\n",
       "      <td>238</td>\n",
       "      <td>Normal Beat</td>\n",
       "      <td>Atrial Fibrillation</td>\n",
       "      <td>NaN</td>\n",
       "      <td>NaN</td>\n",
       "      <td>NaN</td>\n",
       "      <td>55.0</td>\n",
       "      <td>144.0</td>\n",
       "    </tr>\n",
       "    <tr>\n",
       "      <th>3</th>\n",
       "      <td>314</td>\n",
       "      <td>Normal Beat</td>\n",
       "      <td>Atrial Fibrillation</td>\n",
       "      <td>NaN</td>\n",
       "      <td>NaN</td>\n",
       "      <td>55.0</td>\n",
       "      <td>144.0</td>\n",
       "      <td>238.0</td>\n",
       "    </tr>\n",
       "    <tr>\n",
       "      <th>4</th>\n",
       "      <td>412</td>\n",
       "      <td>Normal Beat</td>\n",
       "      <td>Atrial Fibrillation</td>\n",
       "      <td>NaN</td>\n",
       "      <td>55.0</td>\n",
       "      <td>144.0</td>\n",
       "      <td>238.0</td>\n",
       "      <td>314.0</td>\n",
       "    </tr>\n",
       "  </tbody>\n",
       "</table>\n",
       "</div>"
      ],
      "text/plain": [
       "   R peak Interval Beat Annotation   Episode Annotation  R peak Interval_5  \\\n",
       "0               55     Normal Beat  Atrial Fibrillation                NaN   \n",
       "1              144     Normal Beat  Atrial Fibrillation                NaN   \n",
       "2              238     Normal Beat  Atrial Fibrillation                NaN   \n",
       "3              314     Normal Beat  Atrial Fibrillation                NaN   \n",
       "4              412     Normal Beat  Atrial Fibrillation                NaN   \n",
       "\n",
       "   R peak Interval_4  R peak Interval_3  R peak Interval_2  R peak Interval_1  \n",
       "0                NaN                NaN                NaN                NaN  \n",
       "1                NaN                NaN                NaN               55.0  \n",
       "2                NaN                NaN               55.0              144.0  \n",
       "3                NaN               55.0              144.0              238.0  \n",
       "4               55.0              144.0              238.0              314.0  "
      ]
     },
     "execution_count": 14,
     "metadata": {},
     "output_type": "execute_result"
    }
   ],
   "source": [
    "df.head()"
   ]
  },
  {
   "cell_type": "code",
   "execution_count": 15,
   "metadata": {},
   "outputs": [],
   "source": [
    "df.dropna(axis=0, inplace=True)"
   ]
  },
  {
   "cell_type": "code",
   "execution_count": 16,
   "metadata": {},
   "outputs": [
    {
     "data": {
      "text/html": [
       "<div>\n",
       "<style scoped>\n",
       "    .dataframe tbody tr th:only-of-type {\n",
       "        vertical-align: middle;\n",
       "    }\n",
       "\n",
       "    .dataframe tbody tr th {\n",
       "        vertical-align: top;\n",
       "    }\n",
       "\n",
       "    .dataframe thead th {\n",
       "        text-align: right;\n",
       "    }\n",
       "</style>\n",
       "<table border=\"1\" class=\"dataframe\">\n",
       "  <thead>\n",
       "    <tr style=\"text-align: right;\">\n",
       "      <th></th>\n",
       "      <th>R peak Interval</th>\n",
       "      <th>Beat Annotation</th>\n",
       "      <th>Episode Annotation</th>\n",
       "      <th>R peak Interval_5</th>\n",
       "      <th>R peak Interval_4</th>\n",
       "      <th>R peak Interval_3</th>\n",
       "      <th>R peak Interval_2</th>\n",
       "      <th>R peak Interval_1</th>\n",
       "    </tr>\n",
       "  </thead>\n",
       "  <tbody>\n",
       "    <tr>\n",
       "      <th>1398</th>\n",
       "      <td>161251</td>\n",
       "      <td>Normal Beat</td>\n",
       "      <td>Normal Episode</td>\n",
       "      <td>160470.0</td>\n",
       "      <td>160667.0</td>\n",
       "      <td>160809.0</td>\n",
       "      <td>160964.0</td>\n",
       "      <td>161091.0</td>\n",
       "    </tr>\n",
       "    <tr>\n",
       "      <th>1125</th>\n",
       "      <td>124986</td>\n",
       "      <td>Normal Beat</td>\n",
       "      <td>Normal Episode</td>\n",
       "      <td>124341.0</td>\n",
       "      <td>124413.0</td>\n",
       "      <td>124563.0</td>\n",
       "      <td>124700.0</td>\n",
       "      <td>124825.0</td>\n",
       "    </tr>\n",
       "    <tr>\n",
       "      <th>266</th>\n",
       "      <td>22329</td>\n",
       "      <td>Normal Beat</td>\n",
       "      <td>Atrial Fibrillation</td>\n",
       "      <td>21932.0</td>\n",
       "      <td>21995.0</td>\n",
       "      <td>22088.0</td>\n",
       "      <td>22162.0</td>\n",
       "      <td>22251.0</td>\n",
       "    </tr>\n",
       "    <tr>\n",
       "      <th>40</th>\n",
       "      <td>3475</td>\n",
       "      <td>Normal Beat</td>\n",
       "      <td>Atrial Fibrillation</td>\n",
       "      <td>3009.0</td>\n",
       "      <td>3097.0</td>\n",
       "      <td>3165.0</td>\n",
       "      <td>3246.0</td>\n",
       "      <td>3347.0</td>\n",
       "    </tr>\n",
       "    <tr>\n",
       "      <th>1790</th>\n",
       "      <td>207139</td>\n",
       "      <td>Normal Beat</td>\n",
       "      <td>Atrial Fibrillation</td>\n",
       "      <td>206719.0</td>\n",
       "      <td>206793.0</td>\n",
       "      <td>206893.0</td>\n",
       "      <td>206956.0</td>\n",
       "      <td>207065.0</td>\n",
       "    </tr>\n",
       "  </tbody>\n",
       "</table>\n",
       "</div>"
      ],
      "text/plain": [
       "      R peak Interval Beat Annotation   Episode Annotation  R peak Interval_5  \\\n",
       "1398           161251     Normal Beat       Normal Episode           160470.0   \n",
       "1125           124986     Normal Beat       Normal Episode           124341.0   \n",
       "266             22329     Normal Beat  Atrial Fibrillation            21932.0   \n",
       "40               3475     Normal Beat  Atrial Fibrillation             3009.0   \n",
       "1790           207139     Normal Beat  Atrial Fibrillation           206719.0   \n",
       "\n",
       "      R peak Interval_4  R peak Interval_3  R peak Interval_2  \\\n",
       "1398           160667.0           160809.0           160964.0   \n",
       "1125           124413.0           124563.0           124700.0   \n",
       "266             21995.0            22088.0            22162.0   \n",
       "40               3097.0             3165.0             3246.0   \n",
       "1790           206793.0           206893.0           206956.0   \n",
       "\n",
       "      R peak Interval_1  \n",
       "1398           161091.0  \n",
       "1125           124825.0  \n",
       "266             22251.0  \n",
       "40               3347.0  \n",
       "1790           207065.0  "
      ]
     },
     "execution_count": 16,
     "metadata": {},
     "output_type": "execute_result"
    }
   ],
   "source": [
    "df.sample(5)"
   ]
  },
  {
   "cell_type": "markdown",
   "metadata": {},
   "source": [
    "## Generate R-R interval features\n"
   ]
  },
  {
   "cell_type": "markdown",
   "metadata": {},
   "source": [
    "For the past 5 R peak intervals ($R_{i}, i \\in \\{-1, -2, -3, -4, -5\\}$), generate the 4 R-R intervals as features.\n",
    "\n",
    "$RR_{i} = R_{i} - R_{i-1}$"
   ]
  },
  {
   "cell_type": "code",
   "execution_count": 17,
   "metadata": {},
   "outputs": [],
   "source": [
    "# Write your code here. Add as many boxes as you need.\n",
    "for i in range(1, 5):\n",
    "    df[f'RR {i}'] = df[f'R peak Interval_{i}'] - df[f'R peak Interval_{i+1}']"
   ]
  },
  {
   "cell_type": "code",
   "execution_count": 18,
   "metadata": {},
   "outputs": [
    {
     "data": {
      "text/html": [
       "<div>\n",
       "<style scoped>\n",
       "    .dataframe tbody tr th:only-of-type {\n",
       "        vertical-align: middle;\n",
       "    }\n",
       "\n",
       "    .dataframe tbody tr th {\n",
       "        vertical-align: top;\n",
       "    }\n",
       "\n",
       "    .dataframe thead th {\n",
       "        text-align: right;\n",
       "    }\n",
       "</style>\n",
       "<table border=\"1\" class=\"dataframe\">\n",
       "  <thead>\n",
       "    <tr style=\"text-align: right;\">\n",
       "      <th></th>\n",
       "      <th>R peak Interval</th>\n",
       "      <th>Beat Annotation</th>\n",
       "      <th>Episode Annotation</th>\n",
       "      <th>R peak Interval_5</th>\n",
       "      <th>R peak Interval_4</th>\n",
       "      <th>R peak Interval_3</th>\n",
       "      <th>R peak Interval_2</th>\n",
       "      <th>R peak Interval_1</th>\n",
       "      <th>RR 1</th>\n",
       "      <th>RR 2</th>\n",
       "      <th>RR 3</th>\n",
       "      <th>RR 4</th>\n",
       "    </tr>\n",
       "  </thead>\n",
       "  <tbody>\n",
       "    <tr>\n",
       "      <th>5</th>\n",
       "      <td>493</td>\n",
       "      <td>Normal Beat</td>\n",
       "      <td>Atrial Fibrillation</td>\n",
       "      <td>55.0</td>\n",
       "      <td>144.0</td>\n",
       "      <td>238.0</td>\n",
       "      <td>314.0</td>\n",
       "      <td>412.0</td>\n",
       "      <td>98.0</td>\n",
       "      <td>76.0</td>\n",
       "      <td>94.0</td>\n",
       "      <td>89.0</td>\n",
       "    </tr>\n",
       "    <tr>\n",
       "      <th>6</th>\n",
       "      <td>562</td>\n",
       "      <td>Normal Beat</td>\n",
       "      <td>Atrial Fibrillation</td>\n",
       "      <td>144.0</td>\n",
       "      <td>238.0</td>\n",
       "      <td>314.0</td>\n",
       "      <td>412.0</td>\n",
       "      <td>493.0</td>\n",
       "      <td>81.0</td>\n",
       "      <td>98.0</td>\n",
       "      <td>76.0</td>\n",
       "      <td>94.0</td>\n",
       "    </tr>\n",
       "    <tr>\n",
       "      <th>7</th>\n",
       "      <td>682</td>\n",
       "      <td>Normal Beat</td>\n",
       "      <td>Atrial Fibrillation</td>\n",
       "      <td>238.0</td>\n",
       "      <td>314.0</td>\n",
       "      <td>412.0</td>\n",
       "      <td>493.0</td>\n",
       "      <td>562.0</td>\n",
       "      <td>69.0</td>\n",
       "      <td>81.0</td>\n",
       "      <td>98.0</td>\n",
       "      <td>76.0</td>\n",
       "    </tr>\n",
       "    <tr>\n",
       "      <th>8</th>\n",
       "      <td>776</td>\n",
       "      <td>Normal Beat</td>\n",
       "      <td>Atrial Fibrillation</td>\n",
       "      <td>314.0</td>\n",
       "      <td>412.0</td>\n",
       "      <td>493.0</td>\n",
       "      <td>562.0</td>\n",
       "      <td>682.0</td>\n",
       "      <td>120.0</td>\n",
       "      <td>69.0</td>\n",
       "      <td>81.0</td>\n",
       "      <td>98.0</td>\n",
       "    </tr>\n",
       "    <tr>\n",
       "      <th>9</th>\n",
       "      <td>866</td>\n",
       "      <td>Normal Beat</td>\n",
       "      <td>Atrial Fibrillation</td>\n",
       "      <td>412.0</td>\n",
       "      <td>493.0</td>\n",
       "      <td>562.0</td>\n",
       "      <td>682.0</td>\n",
       "      <td>776.0</td>\n",
       "      <td>94.0</td>\n",
       "      <td>120.0</td>\n",
       "      <td>69.0</td>\n",
       "      <td>81.0</td>\n",
       "    </tr>\n",
       "    <tr>\n",
       "      <th>...</th>\n",
       "      <td>...</td>\n",
       "      <td>...</td>\n",
       "      <td>...</td>\n",
       "      <td>...</td>\n",
       "      <td>...</td>\n",
       "      <td>...</td>\n",
       "      <td>...</td>\n",
       "      <td>...</td>\n",
       "      <td>...</td>\n",
       "      <td>...</td>\n",
       "      <td>...</td>\n",
       "      <td>...</td>\n",
       "    </tr>\n",
       "    <tr>\n",
       "      <th>1999</th>\n",
       "      <td>225145</td>\n",
       "      <td>Normal Beat</td>\n",
       "      <td>Normal Episode</td>\n",
       "      <td>224485.0</td>\n",
       "      <td>224545.0</td>\n",
       "      <td>224739.0</td>\n",
       "      <td>224764.0</td>\n",
       "      <td>224987.0</td>\n",
       "      <td>223.0</td>\n",
       "      <td>25.0</td>\n",
       "      <td>194.0</td>\n",
       "      <td>60.0</td>\n",
       "    </tr>\n",
       "    <tr>\n",
       "      <th>2000</th>\n",
       "      <td>225206</td>\n",
       "      <td>Other</td>\n",
       "      <td>Normal Episode</td>\n",
       "      <td>224545.0</td>\n",
       "      <td>224739.0</td>\n",
       "      <td>224764.0</td>\n",
       "      <td>224987.0</td>\n",
       "      <td>225145.0</td>\n",
       "      <td>158.0</td>\n",
       "      <td>223.0</td>\n",
       "      <td>25.0</td>\n",
       "      <td>194.0</td>\n",
       "    </tr>\n",
       "    <tr>\n",
       "      <th>2001</th>\n",
       "      <td>225383</td>\n",
       "      <td>Normal Beat</td>\n",
       "      <td>Normal Episode</td>\n",
       "      <td>224739.0</td>\n",
       "      <td>224764.0</td>\n",
       "      <td>224987.0</td>\n",
       "      <td>225145.0</td>\n",
       "      <td>225206.0</td>\n",
       "      <td>61.0</td>\n",
       "      <td>158.0</td>\n",
       "      <td>223.0</td>\n",
       "      <td>25.0</td>\n",
       "    </tr>\n",
       "    <tr>\n",
       "      <th>2002</th>\n",
       "      <td>225410</td>\n",
       "      <td>Other</td>\n",
       "      <td>Normal Episode</td>\n",
       "      <td>224764.0</td>\n",
       "      <td>224987.0</td>\n",
       "      <td>225145.0</td>\n",
       "      <td>225206.0</td>\n",
       "      <td>225383.0</td>\n",
       "      <td>177.0</td>\n",
       "      <td>61.0</td>\n",
       "      <td>158.0</td>\n",
       "      <td>223.0</td>\n",
       "    </tr>\n",
       "    <tr>\n",
       "      <th>2003</th>\n",
       "      <td>225625</td>\n",
       "      <td>Normal Beat</td>\n",
       "      <td>Normal Episode</td>\n",
       "      <td>224987.0</td>\n",
       "      <td>225145.0</td>\n",
       "      <td>225206.0</td>\n",
       "      <td>225383.0</td>\n",
       "      <td>225410.0</td>\n",
       "      <td>27.0</td>\n",
       "      <td>177.0</td>\n",
       "      <td>61.0</td>\n",
       "      <td>158.0</td>\n",
       "    </tr>\n",
       "  </tbody>\n",
       "</table>\n",
       "<p>1999 rows × 12 columns</p>\n",
       "</div>"
      ],
      "text/plain": [
       "      R peak Interval Beat Annotation   Episode Annotation  R peak Interval_5  \\\n",
       "5                 493     Normal Beat  Atrial Fibrillation               55.0   \n",
       "6                 562     Normal Beat  Atrial Fibrillation              144.0   \n",
       "7                 682     Normal Beat  Atrial Fibrillation              238.0   \n",
       "8                 776     Normal Beat  Atrial Fibrillation              314.0   \n",
       "9                 866     Normal Beat  Atrial Fibrillation              412.0   \n",
       "...               ...             ...                  ...                ...   \n",
       "1999           225145     Normal Beat       Normal Episode           224485.0   \n",
       "2000           225206           Other       Normal Episode           224545.0   \n",
       "2001           225383     Normal Beat       Normal Episode           224739.0   \n",
       "2002           225410           Other       Normal Episode           224764.0   \n",
       "2003           225625     Normal Beat       Normal Episode           224987.0   \n",
       "\n",
       "      R peak Interval_4  R peak Interval_3  R peak Interval_2  \\\n",
       "5                 144.0              238.0              314.0   \n",
       "6                 238.0              314.0              412.0   \n",
       "7                 314.0              412.0              493.0   \n",
       "8                 412.0              493.0              562.0   \n",
       "9                 493.0              562.0              682.0   \n",
       "...                 ...                ...                ...   \n",
       "1999           224545.0           224739.0           224764.0   \n",
       "2000           224739.0           224764.0           224987.0   \n",
       "2001           224764.0           224987.0           225145.0   \n",
       "2002           224987.0           225145.0           225206.0   \n",
       "2003           225145.0           225206.0           225383.0   \n",
       "\n",
       "      R peak Interval_1   RR 1   RR 2   RR 3   RR 4  \n",
       "5                 412.0   98.0   76.0   94.0   89.0  \n",
       "6                 493.0   81.0   98.0   76.0   94.0  \n",
       "7                 562.0   69.0   81.0   98.0   76.0  \n",
       "8                 682.0  120.0   69.0   81.0   98.0  \n",
       "9                 776.0   94.0  120.0   69.0   81.0  \n",
       "...                 ...    ...    ...    ...    ...  \n",
       "1999           224987.0  223.0   25.0  194.0   60.0  \n",
       "2000           225145.0  158.0  223.0   25.0  194.0  \n",
       "2001           225206.0   61.0  158.0  223.0   25.0  \n",
       "2002           225383.0  177.0   61.0  158.0  223.0  \n",
       "2003           225410.0   27.0  177.0   61.0  158.0  \n",
       "\n",
       "[1999 rows x 12 columns]"
      ]
     },
     "execution_count": 18,
     "metadata": {},
     "output_type": "execute_result"
    }
   ],
   "source": [
    "df"
   ]
  },
  {
   "cell_type": "markdown",
   "metadata": {},
   "source": [
    "Additionally, generate the current R-R Interval, which we will be using as a target.  \n",
    "\n",
    "$RR_{curr} = (R_{0} - R_{-1})$"
   ]
  },
  {
   "cell_type": "code",
   "execution_count": 19,
   "metadata": {},
   "outputs": [],
   "source": [
    "# Write your code here. Add as many boxes as you need.\n",
    "df['RR'] = df['R peak Interval'] - df['R peak Interval_1']"
   ]
  },
  {
   "cell_type": "markdown",
   "metadata": {},
   "source": [
    "Check that the mapping worked:"
   ]
  },
  {
   "cell_type": "code",
   "execution_count": 20,
   "metadata": {},
   "outputs": [
    {
     "data": {
      "text/html": [
       "<div>\n",
       "<style scoped>\n",
       "    .dataframe tbody tr th:only-of-type {\n",
       "        vertical-align: middle;\n",
       "    }\n",
       "\n",
       "    .dataframe tbody tr th {\n",
       "        vertical-align: top;\n",
       "    }\n",
       "\n",
       "    .dataframe thead th {\n",
       "        text-align: right;\n",
       "    }\n",
       "</style>\n",
       "<table border=\"1\" class=\"dataframe\">\n",
       "  <thead>\n",
       "    <tr style=\"text-align: right;\">\n",
       "      <th></th>\n",
       "      <th>R peak Interval</th>\n",
       "      <th>Beat Annotation</th>\n",
       "      <th>Episode Annotation</th>\n",
       "      <th>R peak Interval_5</th>\n",
       "      <th>R peak Interval_4</th>\n",
       "      <th>R peak Interval_3</th>\n",
       "      <th>R peak Interval_2</th>\n",
       "      <th>R peak Interval_1</th>\n",
       "      <th>RR 1</th>\n",
       "      <th>RR 2</th>\n",
       "      <th>RR 3</th>\n",
       "      <th>RR 4</th>\n",
       "      <th>RR</th>\n",
       "    </tr>\n",
       "  </thead>\n",
       "  <tbody>\n",
       "    <tr>\n",
       "      <th>5</th>\n",
       "      <td>493</td>\n",
       "      <td>Normal Beat</td>\n",
       "      <td>Atrial Fibrillation</td>\n",
       "      <td>55.0</td>\n",
       "      <td>144.0</td>\n",
       "      <td>238.0</td>\n",
       "      <td>314.0</td>\n",
       "      <td>412.0</td>\n",
       "      <td>98.0</td>\n",
       "      <td>76.0</td>\n",
       "      <td>94.0</td>\n",
       "      <td>89.0</td>\n",
       "      <td>81.0</td>\n",
       "    </tr>\n",
       "    <tr>\n",
       "      <th>6</th>\n",
       "      <td>562</td>\n",
       "      <td>Normal Beat</td>\n",
       "      <td>Atrial Fibrillation</td>\n",
       "      <td>144.0</td>\n",
       "      <td>238.0</td>\n",
       "      <td>314.0</td>\n",
       "      <td>412.0</td>\n",
       "      <td>493.0</td>\n",
       "      <td>81.0</td>\n",
       "      <td>98.0</td>\n",
       "      <td>76.0</td>\n",
       "      <td>94.0</td>\n",
       "      <td>69.0</td>\n",
       "    </tr>\n",
       "    <tr>\n",
       "      <th>7</th>\n",
       "      <td>682</td>\n",
       "      <td>Normal Beat</td>\n",
       "      <td>Atrial Fibrillation</td>\n",
       "      <td>238.0</td>\n",
       "      <td>314.0</td>\n",
       "      <td>412.0</td>\n",
       "      <td>493.0</td>\n",
       "      <td>562.0</td>\n",
       "      <td>69.0</td>\n",
       "      <td>81.0</td>\n",
       "      <td>98.0</td>\n",
       "      <td>76.0</td>\n",
       "      <td>120.0</td>\n",
       "    </tr>\n",
       "    <tr>\n",
       "      <th>8</th>\n",
       "      <td>776</td>\n",
       "      <td>Normal Beat</td>\n",
       "      <td>Atrial Fibrillation</td>\n",
       "      <td>314.0</td>\n",
       "      <td>412.0</td>\n",
       "      <td>493.0</td>\n",
       "      <td>562.0</td>\n",
       "      <td>682.0</td>\n",
       "      <td>120.0</td>\n",
       "      <td>69.0</td>\n",
       "      <td>81.0</td>\n",
       "      <td>98.0</td>\n",
       "      <td>94.0</td>\n",
       "    </tr>\n",
       "    <tr>\n",
       "      <th>9</th>\n",
       "      <td>866</td>\n",
       "      <td>Normal Beat</td>\n",
       "      <td>Atrial Fibrillation</td>\n",
       "      <td>412.0</td>\n",
       "      <td>493.0</td>\n",
       "      <td>562.0</td>\n",
       "      <td>682.0</td>\n",
       "      <td>776.0</td>\n",
       "      <td>94.0</td>\n",
       "      <td>120.0</td>\n",
       "      <td>69.0</td>\n",
       "      <td>81.0</td>\n",
       "      <td>90.0</td>\n",
       "    </tr>\n",
       "    <tr>\n",
       "      <th>...</th>\n",
       "      <td>...</td>\n",
       "      <td>...</td>\n",
       "      <td>...</td>\n",
       "      <td>...</td>\n",
       "      <td>...</td>\n",
       "      <td>...</td>\n",
       "      <td>...</td>\n",
       "      <td>...</td>\n",
       "      <td>...</td>\n",
       "      <td>...</td>\n",
       "      <td>...</td>\n",
       "      <td>...</td>\n",
       "      <td>...</td>\n",
       "    </tr>\n",
       "    <tr>\n",
       "      <th>1999</th>\n",
       "      <td>225145</td>\n",
       "      <td>Normal Beat</td>\n",
       "      <td>Normal Episode</td>\n",
       "      <td>224485.0</td>\n",
       "      <td>224545.0</td>\n",
       "      <td>224739.0</td>\n",
       "      <td>224764.0</td>\n",
       "      <td>224987.0</td>\n",
       "      <td>223.0</td>\n",
       "      <td>25.0</td>\n",
       "      <td>194.0</td>\n",
       "      <td>60.0</td>\n",
       "      <td>158.0</td>\n",
       "    </tr>\n",
       "    <tr>\n",
       "      <th>2000</th>\n",
       "      <td>225206</td>\n",
       "      <td>Other</td>\n",
       "      <td>Normal Episode</td>\n",
       "      <td>224545.0</td>\n",
       "      <td>224739.0</td>\n",
       "      <td>224764.0</td>\n",
       "      <td>224987.0</td>\n",
       "      <td>225145.0</td>\n",
       "      <td>158.0</td>\n",
       "      <td>223.0</td>\n",
       "      <td>25.0</td>\n",
       "      <td>194.0</td>\n",
       "      <td>61.0</td>\n",
       "    </tr>\n",
       "    <tr>\n",
       "      <th>2001</th>\n",
       "      <td>225383</td>\n",
       "      <td>Normal Beat</td>\n",
       "      <td>Normal Episode</td>\n",
       "      <td>224739.0</td>\n",
       "      <td>224764.0</td>\n",
       "      <td>224987.0</td>\n",
       "      <td>225145.0</td>\n",
       "      <td>225206.0</td>\n",
       "      <td>61.0</td>\n",
       "      <td>158.0</td>\n",
       "      <td>223.0</td>\n",
       "      <td>25.0</td>\n",
       "      <td>177.0</td>\n",
       "    </tr>\n",
       "    <tr>\n",
       "      <th>2002</th>\n",
       "      <td>225410</td>\n",
       "      <td>Other</td>\n",
       "      <td>Normal Episode</td>\n",
       "      <td>224764.0</td>\n",
       "      <td>224987.0</td>\n",
       "      <td>225145.0</td>\n",
       "      <td>225206.0</td>\n",
       "      <td>225383.0</td>\n",
       "      <td>177.0</td>\n",
       "      <td>61.0</td>\n",
       "      <td>158.0</td>\n",
       "      <td>223.0</td>\n",
       "      <td>27.0</td>\n",
       "    </tr>\n",
       "    <tr>\n",
       "      <th>2003</th>\n",
       "      <td>225625</td>\n",
       "      <td>Normal Beat</td>\n",
       "      <td>Normal Episode</td>\n",
       "      <td>224987.0</td>\n",
       "      <td>225145.0</td>\n",
       "      <td>225206.0</td>\n",
       "      <td>225383.0</td>\n",
       "      <td>225410.0</td>\n",
       "      <td>27.0</td>\n",
       "      <td>177.0</td>\n",
       "      <td>61.0</td>\n",
       "      <td>158.0</td>\n",
       "      <td>215.0</td>\n",
       "    </tr>\n",
       "  </tbody>\n",
       "</table>\n",
       "<p>1999 rows × 13 columns</p>\n",
       "</div>"
      ],
      "text/plain": [
       "      R peak Interval Beat Annotation   Episode Annotation  R peak Interval_5  \\\n",
       "5                 493     Normal Beat  Atrial Fibrillation               55.0   \n",
       "6                 562     Normal Beat  Atrial Fibrillation              144.0   \n",
       "7                 682     Normal Beat  Atrial Fibrillation              238.0   \n",
       "8                 776     Normal Beat  Atrial Fibrillation              314.0   \n",
       "9                 866     Normal Beat  Atrial Fibrillation              412.0   \n",
       "...               ...             ...                  ...                ...   \n",
       "1999           225145     Normal Beat       Normal Episode           224485.0   \n",
       "2000           225206           Other       Normal Episode           224545.0   \n",
       "2001           225383     Normal Beat       Normal Episode           224739.0   \n",
       "2002           225410           Other       Normal Episode           224764.0   \n",
       "2003           225625     Normal Beat       Normal Episode           224987.0   \n",
       "\n",
       "      R peak Interval_4  R peak Interval_3  R peak Interval_2  \\\n",
       "5                 144.0              238.0              314.0   \n",
       "6                 238.0              314.0              412.0   \n",
       "7                 314.0              412.0              493.0   \n",
       "8                 412.0              493.0              562.0   \n",
       "9                 493.0              562.0              682.0   \n",
       "...                 ...                ...                ...   \n",
       "1999           224545.0           224739.0           224764.0   \n",
       "2000           224739.0           224764.0           224987.0   \n",
       "2001           224764.0           224987.0           225145.0   \n",
       "2002           224987.0           225145.0           225206.0   \n",
       "2003           225145.0           225206.0           225383.0   \n",
       "\n",
       "      R peak Interval_1   RR 1   RR 2   RR 3   RR 4     RR  \n",
       "5                 412.0   98.0   76.0   94.0   89.0   81.0  \n",
       "6                 493.0   81.0   98.0   76.0   94.0   69.0  \n",
       "7                 562.0   69.0   81.0   98.0   76.0  120.0  \n",
       "8                 682.0  120.0   69.0   81.0   98.0   94.0  \n",
       "9                 776.0   94.0  120.0   69.0   81.0   90.0  \n",
       "...                 ...    ...    ...    ...    ...    ...  \n",
       "1999           224987.0  223.0   25.0  194.0   60.0  158.0  \n",
       "2000           225145.0  158.0  223.0   25.0  194.0   61.0  \n",
       "2001           225206.0   61.0  158.0  223.0   25.0  177.0  \n",
       "2002           225383.0  177.0   61.0  158.0  223.0   27.0  \n",
       "2003           225410.0   27.0  177.0   61.0  158.0  215.0  \n",
       "\n",
       "[1999 rows x 13 columns]"
      ]
     },
     "execution_count": 20,
     "metadata": {},
     "output_type": "execute_result"
    }
   ],
   "source": [
    "# Write your code here. Add as many boxes as you need.\n",
    "df"
   ]
  },
  {
   "cell_type": "markdown",
   "metadata": {},
   "source": [
    "## Encode the categorical variables"
   ]
  },
  {
   "cell_type": "code",
   "execution_count": 24,
   "metadata": {},
   "outputs": [],
   "source": [
    "# Write your code here. Add as many boxes as you need.\n",
    "from sklearn.preprocessing import OrdinalEncoder\n",
    "\n",
    "encoder = OrdinalEncoder()"
   ]
  },
  {
   "cell_type": "code",
   "execution_count": 25,
   "metadata": {},
   "outputs": [],
   "source": [
    "beat_enc = OrdinalEncoder()\n",
    "episode_enc = OrdinalEncoder()\n",
    "\n",
    "df['Beat Annotation'] = beat_enc.fit_transform(df[['Beat Annotation']])\n",
    "df['Episode Annotation'] = episode_enc.fit_transform(df[['Episode Annotation']])"
   ]
  },
  {
   "cell_type": "markdown",
   "metadata": {},
   "source": [
    "Check that the mapping worked:"
   ]
  },
  {
   "cell_type": "code",
   "execution_count": 27,
   "metadata": {},
   "outputs": [
    {
     "data": {
      "text/html": [
       "<div>\n",
       "<style scoped>\n",
       "    .dataframe tbody tr th:only-of-type {\n",
       "        vertical-align: middle;\n",
       "    }\n",
       "\n",
       "    .dataframe tbody tr th {\n",
       "        vertical-align: top;\n",
       "    }\n",
       "\n",
       "    .dataframe thead th {\n",
       "        text-align: right;\n",
       "    }\n",
       "</style>\n",
       "<table border=\"1\" class=\"dataframe\">\n",
       "  <thead>\n",
       "    <tr style=\"text-align: right;\">\n",
       "      <th></th>\n",
       "      <th>R peak Interval</th>\n",
       "      <th>Beat Annotation</th>\n",
       "      <th>Episode Annotation</th>\n",
       "      <th>R peak Interval_5</th>\n",
       "      <th>R peak Interval_4</th>\n",
       "      <th>R peak Interval_3</th>\n",
       "      <th>R peak Interval_2</th>\n",
       "      <th>R peak Interval_1</th>\n",
       "      <th>RR 1</th>\n",
       "      <th>RR 2</th>\n",
       "      <th>RR 3</th>\n",
       "      <th>RR 4</th>\n",
       "      <th>RR</th>\n",
       "    </tr>\n",
       "  </thead>\n",
       "  <tbody>\n",
       "    <tr>\n",
       "      <th>1998</th>\n",
       "      <td>224987</td>\n",
       "      <td>0.0</td>\n",
       "      <td>1.0</td>\n",
       "      <td>224323.0</td>\n",
       "      <td>224485.0</td>\n",
       "      <td>224545.0</td>\n",
       "      <td>224739.0</td>\n",
       "      <td>224764.0</td>\n",
       "      <td>25.0</td>\n",
       "      <td>194.0</td>\n",
       "      <td>60.0</td>\n",
       "      <td>162.0</td>\n",
       "      <td>223.0</td>\n",
       "    </tr>\n",
       "    <tr>\n",
       "      <th>247</th>\n",
       "      <td>20780</td>\n",
       "      <td>0.0</td>\n",
       "      <td>0.0</td>\n",
       "      <td>20339.0</td>\n",
       "      <td>20419.0</td>\n",
       "      <td>20514.0</td>\n",
       "      <td>20601.0</td>\n",
       "      <td>20692.0</td>\n",
       "      <td>91.0</td>\n",
       "      <td>87.0</td>\n",
       "      <td>95.0</td>\n",
       "      <td>80.0</td>\n",
       "      <td>88.0</td>\n",
       "    </tr>\n",
       "    <tr>\n",
       "      <th>1228</th>\n",
       "      <td>138504</td>\n",
       "      <td>1.0</td>\n",
       "      <td>1.0</td>\n",
       "      <td>137952.0</td>\n",
       "      <td>138073.0</td>\n",
       "      <td>138132.0</td>\n",
       "      <td>138290.0</td>\n",
       "      <td>138360.0</td>\n",
       "      <td>70.0</td>\n",
       "      <td>158.0</td>\n",
       "      <td>59.0</td>\n",
       "      <td>121.0</td>\n",
       "      <td>144.0</td>\n",
       "    </tr>\n",
       "    <tr>\n",
       "      <th>1116</th>\n",
       "      <td>123763</td>\n",
       "      <td>2.0</td>\n",
       "      <td>2.0</td>\n",
       "      <td>123058.0</td>\n",
       "      <td>123205.0</td>\n",
       "      <td>123310.0</td>\n",
       "      <td>123493.0</td>\n",
       "      <td>123636.0</td>\n",
       "      <td>143.0</td>\n",
       "      <td>183.0</td>\n",
       "      <td>105.0</td>\n",
       "      <td>147.0</td>\n",
       "      <td>127.0</td>\n",
       "    </tr>\n",
       "    <tr>\n",
       "      <th>1131</th>\n",
       "      <td>125749</td>\n",
       "      <td>1.0</td>\n",
       "      <td>1.0</td>\n",
       "      <td>125138.0</td>\n",
       "      <td>125245.0</td>\n",
       "      <td>125407.0</td>\n",
       "      <td>125557.0</td>\n",
       "      <td>125688.0</td>\n",
       "      <td>131.0</td>\n",
       "      <td>150.0</td>\n",
       "      <td>162.0</td>\n",
       "      <td>107.0</td>\n",
       "      <td>61.0</td>\n",
       "    </tr>\n",
       "  </tbody>\n",
       "</table>\n",
       "</div>"
      ],
      "text/plain": [
       "      R peak Interval  Beat Annotation  Episode Annotation  R peak Interval_5  \\\n",
       "1998           224987              0.0                 1.0           224323.0   \n",
       "247             20780              0.0                 0.0            20339.0   \n",
       "1228           138504              1.0                 1.0           137952.0   \n",
       "1116           123763              2.0                 2.0           123058.0   \n",
       "1131           125749              1.0                 1.0           125138.0   \n",
       "\n",
       "      R peak Interval_4  R peak Interval_3  R peak Interval_2  \\\n",
       "1998           224485.0           224545.0           224739.0   \n",
       "247             20419.0            20514.0            20601.0   \n",
       "1228           138073.0           138132.0           138290.0   \n",
       "1116           123205.0           123310.0           123493.0   \n",
       "1131           125245.0           125407.0           125557.0   \n",
       "\n",
       "      R peak Interval_1   RR 1   RR 2   RR 3   RR 4     RR  \n",
       "1998           224764.0   25.0  194.0   60.0  162.0  223.0  \n",
       "247             20692.0   91.0   87.0   95.0   80.0   88.0  \n",
       "1228           138360.0   70.0  158.0   59.0  121.0  144.0  \n",
       "1116           123636.0  143.0  183.0  105.0  147.0  127.0  \n",
       "1131           125688.0  131.0  150.0  162.0  107.0   61.0  "
      ]
     },
     "execution_count": 27,
     "metadata": {},
     "output_type": "execute_result"
    }
   ],
   "source": [
    "# Write your code here. Add as many boxes as you need.\n",
    "df.sample(5)"
   ]
  },
  {
   "cell_type": "markdown",
   "metadata": {},
   "source": [
    "---\n",
    "# Model Training"
   ]
  },
  {
   "cell_type": "markdown",
   "metadata": {},
   "source": [
    "## Remove unnecessary columns"
   ]
  },
  {
   "cell_type": "markdown",
   "metadata": {},
   "source": [
    "For the purposes of training we will only be using the following columns as features:\n",
    "- Beat Annotation\n",
    "- Episode Annotation\n",
    "- **All historical** 4 RR intervals\n",
    "\n",
    "Moreover, the target column we will be forcasting is the ```current RR``` interval."
   ]
  },
  {
   "cell_type": "code",
   "execution_count": 31,
   "metadata": {},
   "outputs": [],
   "source": [
    "# Write your code here. Add as many boxes as you need.\n",
    "needed_columns = ['Beat Annotation','Episode Annotation','RR 1','RR 2','RR 3','RR 4','RR']"
   ]
  },
  {
   "cell_type": "code",
   "execution_count": 35,
   "metadata": {},
   "outputs": [
    {
     "data": {
      "text/html": [
       "<div>\n",
       "<style scoped>\n",
       "    .dataframe tbody tr th:only-of-type {\n",
       "        vertical-align: middle;\n",
       "    }\n",
       "\n",
       "    .dataframe tbody tr th {\n",
       "        vertical-align: top;\n",
       "    }\n",
       "\n",
       "    .dataframe thead th {\n",
       "        text-align: right;\n",
       "    }\n",
       "</style>\n",
       "<table border=\"1\" class=\"dataframe\">\n",
       "  <thead>\n",
       "    <tr style=\"text-align: right;\">\n",
       "      <th></th>\n",
       "      <th>Beat Annotation</th>\n",
       "      <th>Episode Annotation</th>\n",
       "      <th>RR 1</th>\n",
       "      <th>RR 2</th>\n",
       "      <th>RR 3</th>\n",
       "      <th>RR 4</th>\n",
       "      <th>RR</th>\n",
       "    </tr>\n",
       "  </thead>\n",
       "  <tbody>\n",
       "    <tr>\n",
       "      <th>5</th>\n",
       "      <td>0.0</td>\n",
       "      <td>0.0</td>\n",
       "      <td>98.0</td>\n",
       "      <td>76.0</td>\n",
       "      <td>94.0</td>\n",
       "      <td>89.0</td>\n",
       "      <td>81.0</td>\n",
       "    </tr>\n",
       "    <tr>\n",
       "      <th>6</th>\n",
       "      <td>0.0</td>\n",
       "      <td>0.0</td>\n",
       "      <td>81.0</td>\n",
       "      <td>98.0</td>\n",
       "      <td>76.0</td>\n",
       "      <td>94.0</td>\n",
       "      <td>69.0</td>\n",
       "    </tr>\n",
       "    <tr>\n",
       "      <th>7</th>\n",
       "      <td>0.0</td>\n",
       "      <td>0.0</td>\n",
       "      <td>69.0</td>\n",
       "      <td>81.0</td>\n",
       "      <td>98.0</td>\n",
       "      <td>76.0</td>\n",
       "      <td>120.0</td>\n",
       "    </tr>\n",
       "    <tr>\n",
       "      <th>8</th>\n",
       "      <td>0.0</td>\n",
       "      <td>0.0</td>\n",
       "      <td>120.0</td>\n",
       "      <td>69.0</td>\n",
       "      <td>81.0</td>\n",
       "      <td>98.0</td>\n",
       "      <td>94.0</td>\n",
       "    </tr>\n",
       "    <tr>\n",
       "      <th>9</th>\n",
       "      <td>0.0</td>\n",
       "      <td>0.0</td>\n",
       "      <td>94.0</td>\n",
       "      <td>120.0</td>\n",
       "      <td>69.0</td>\n",
       "      <td>81.0</td>\n",
       "      <td>90.0</td>\n",
       "    </tr>\n",
       "    <tr>\n",
       "      <th>...</th>\n",
       "      <td>...</td>\n",
       "      <td>...</td>\n",
       "      <td>...</td>\n",
       "      <td>...</td>\n",
       "      <td>...</td>\n",
       "      <td>...</td>\n",
       "      <td>...</td>\n",
       "    </tr>\n",
       "    <tr>\n",
       "      <th>1999</th>\n",
       "      <td>0.0</td>\n",
       "      <td>1.0</td>\n",
       "      <td>223.0</td>\n",
       "      <td>25.0</td>\n",
       "      <td>194.0</td>\n",
       "      <td>60.0</td>\n",
       "      <td>158.0</td>\n",
       "    </tr>\n",
       "    <tr>\n",
       "      <th>2000</th>\n",
       "      <td>1.0</td>\n",
       "      <td>1.0</td>\n",
       "      <td>158.0</td>\n",
       "      <td>223.0</td>\n",
       "      <td>25.0</td>\n",
       "      <td>194.0</td>\n",
       "      <td>61.0</td>\n",
       "    </tr>\n",
       "    <tr>\n",
       "      <th>2001</th>\n",
       "      <td>0.0</td>\n",
       "      <td>1.0</td>\n",
       "      <td>61.0</td>\n",
       "      <td>158.0</td>\n",
       "      <td>223.0</td>\n",
       "      <td>25.0</td>\n",
       "      <td>177.0</td>\n",
       "    </tr>\n",
       "    <tr>\n",
       "      <th>2002</th>\n",
       "      <td>1.0</td>\n",
       "      <td>1.0</td>\n",
       "      <td>177.0</td>\n",
       "      <td>61.0</td>\n",
       "      <td>158.0</td>\n",
       "      <td>223.0</td>\n",
       "      <td>27.0</td>\n",
       "    </tr>\n",
       "    <tr>\n",
       "      <th>2003</th>\n",
       "      <td>0.0</td>\n",
       "      <td>1.0</td>\n",
       "      <td>27.0</td>\n",
       "      <td>177.0</td>\n",
       "      <td>61.0</td>\n",
       "      <td>158.0</td>\n",
       "      <td>215.0</td>\n",
       "    </tr>\n",
       "  </tbody>\n",
       "</table>\n",
       "<p>1999 rows × 7 columns</p>\n",
       "</div>"
      ],
      "text/plain": [
       "      Beat Annotation  Episode Annotation   RR 1   RR 2   RR 3   RR 4     RR\n",
       "5                 0.0                 0.0   98.0   76.0   94.0   89.0   81.0\n",
       "6                 0.0                 0.0   81.0   98.0   76.0   94.0   69.0\n",
       "7                 0.0                 0.0   69.0   81.0   98.0   76.0  120.0\n",
       "8                 0.0                 0.0  120.0   69.0   81.0   98.0   94.0\n",
       "9                 0.0                 0.0   94.0  120.0   69.0   81.0   90.0\n",
       "...               ...                 ...    ...    ...    ...    ...    ...\n",
       "1999              0.0                 1.0  223.0   25.0  194.0   60.0  158.0\n",
       "2000              1.0                 1.0  158.0  223.0   25.0  194.0   61.0\n",
       "2001              0.0                 1.0   61.0  158.0  223.0   25.0  177.0\n",
       "2002              1.0                 1.0  177.0   61.0  158.0  223.0   27.0\n",
       "2003              0.0                 1.0   27.0  177.0   61.0  158.0  215.0\n",
       "\n",
       "[1999 rows x 7 columns]"
      ]
     },
     "execution_count": 35,
     "metadata": {},
     "output_type": "execute_result"
    }
   ],
   "source": [
    "df = df.loc[:,needed_columns]\n",
    "df"
   ]
  },
  {
   "cell_type": "markdown",
   "metadata": {},
   "source": [
    "## Dataset Splitting\n",
    "Partition the dataset into training and testing sets with an 80:20 ratio.\n",
    "\n",
    "**WARNING: DO NOT SHUFFLE THE DATASET.**"
   ]
  },
  {
   "cell_type": "code",
   "execution_count": 38,
   "metadata": {},
   "outputs": [],
   "source": [
    "# Write your code here. Add as many boxes as you need.\n",
    "from sklearn.model_selection import train_test_split\n",
    "X = df.drop(['RR'],axis=1)\n",
    "Y = df['RR']"
   ]
  },
  {
   "cell_type": "code",
   "execution_count": 41,
   "metadata": {},
   "outputs": [],
   "source": [
    "X_train,X_test,Y_train,Y_test = train_test_split(X,Y,test_size=0.2,shuffle=False)"
   ]
  },
  {
   "cell_type": "markdown",
   "metadata": {},
   "source": [
    "## Neural Network (RNN / CRNN)\n",
    "\n",
    "Create a deep (convolutional) recurrent neural network using:\n",
    "- Minimum of 1 Convolutional Layer **(+2 points Optional)** and\n",
    "- Minimum of 1 LSTM Layer"
   ]
  },
  {
   "cell_type": "code",
   "execution_count": 47,
   "metadata": {},
   "outputs": [],
   "source": [
    "# Write your code here. Add as many boxes as you need.\n",
    "from tensorflow.keras.models import Sequential\n",
    "from tensorflow.keras.layers import Dense, Conv1D, Flatten, MaxPooling1D, Dropout, Input\n",
    "from tensorflow.keras.layers import LSTM\n",
    "\n",
    "model = Sequential()"
   ]
  },
  {
   "cell_type": "code",
   "execution_count": 49,
   "metadata": {},
   "outputs": [],
   "source": [
    "model.add(Input(shape=(X_train.shape[1],1)))\n",
    "model.add(Conv1D(filters=64,kernel_size=2,activation='relu'))\n",
    "model.add(MaxPooling1D(pool_size=2))\n",
    "\n",
    "\n",
    "model.add(LSTM(50, activation='relu', return_sequences=True))\n",
    "model.add(LSTM(50, activation='relu'))\n",
    "\n",
    "model.add(Dense(1))"
   ]
  },
  {
   "cell_type": "code",
   "execution_count": 56,
   "metadata": {},
   "outputs": [],
   "source": [
    "model_2 = Sequential()"
   ]
  },
  {
   "cell_type": "code",
   "execution_count": 57,
   "metadata": {},
   "outputs": [],
   "source": [
    "model_2.add(Input(shape=(X_train.shape[1], 1)))\n",
    "model_2.add(LSTM(50, activation='relu', return_sequences=True))\n",
    "model_2.add(LSTM(50, activation='relu'))\n",
    "\n",
    "model_2.add(Dense(1))"
   ]
  },
  {
   "cell_type": "markdown",
   "metadata": {},
   "source": [
    "**Reshape Data If Necessary**"
   ]
  },
  {
   "cell_type": "code",
   "execution_count": 58,
   "metadata": {},
   "outputs": [],
   "source": [
    "# Write your code here. Add as many boxes as you need.\n",
    "X_train = X_train.values.reshape((X_train.shape[0], X_train.shape[1], 1))\n",
    "X_test = X_test.values.reshape((X_test.shape[0], X_test.shape[1], 1))"
   ]
  },
  {
   "cell_type": "markdown",
   "metadata": {},
   "source": [
    "Compile and fit the model (Run only train 3 Epoch)."
   ]
  },
  {
   "cell_type": "code",
   "execution_count": 60,
   "metadata": {},
   "outputs": [
    {
     "name": "stdout",
     "output_type": "stream",
     "text": [
      "Epoch 1/3\n",
      "\u001b[1m50/50\u001b[0m \u001b[32m━━━━━━━━━━━━━━━━━━━━\u001b[0m\u001b[37m\u001b[0m \u001b[1m3s\u001b[0m 4ms/step - loss: 11710.1895\n",
      "Epoch 2/3\n",
      "\u001b[1m50/50\u001b[0m \u001b[32m━━━━━━━━━━━━━━━━━━━━\u001b[0m\u001b[37m\u001b[0m \u001b[1m0s\u001b[0m 3ms/step - loss: 1794.6151\n",
      "Epoch 3/3\n",
      "\u001b[1m50/50\u001b[0m \u001b[32m━━━━━━━━━━━━━━━━━━━━\u001b[0m\u001b[37m\u001b[0m \u001b[1m0s\u001b[0m 3ms/step - loss: 1523.7546\n",
      "Epoch 1/3\n",
      "\u001b[1m50/50\u001b[0m \u001b[32m━━━━━━━━━━━━━━━━━━━━\u001b[0m\u001b[37m\u001b[0m \u001b[1m2s\u001b[0m 5ms/step - loss: 10322.5088\n",
      "Epoch 2/3\n",
      "\u001b[1m50/50\u001b[0m \u001b[32m━━━━━━━━━━━━━━━━━━━━\u001b[0m\u001b[37m\u001b[0m \u001b[1m0s\u001b[0m 5ms/step - loss: 1412.2316\n",
      "Epoch 3/3\n",
      "\u001b[1m50/50\u001b[0m \u001b[32m━━━━━━━━━━━━━━━━━━━━\u001b[0m\u001b[37m\u001b[0m \u001b[1m0s\u001b[0m 5ms/step - loss: 1265.1008\n"
     ]
    },
    {
     "data": {
      "text/plain": [
       "<keras.src.callbacks.history.History at 0x79c9045597f0>"
      ]
     },
     "execution_count": 60,
     "metadata": {},
     "output_type": "execute_result"
    }
   ],
   "source": [
    "# Write your code here. Add as many boxes as you need.\n",
    "# Compile the model\n",
    "model.compile(optimizer='adam', loss='mse')\n",
    "model_2.compile(optimizer='adam', loss='mse')\n",
    "\n",
    "# Fit the model\n",
    "model.fit(X_train, Y_train, epochs=3)\n",
    "model_2.fit(X_train, Y_train, epochs=3)"
   ]
  },
  {
   "cell_type": "code",
   "execution_count": 61,
   "metadata": {},
   "outputs": [
    {
     "data": {
      "text/html": [
       "<pre style=\"white-space:pre;overflow-x:auto;line-height:normal;font-family:Menlo,'DejaVu Sans Mono',consolas,'Courier New',monospace\"><span style=\"font-weight: bold\">Model: \"sequential_1\"</span>\n",
       "</pre>\n"
      ],
      "text/plain": [
       "\u001b[1mModel: \"sequential_1\"\u001b[0m\n"
      ]
     },
     "metadata": {},
     "output_type": "display_data"
    },
    {
     "data": {
      "text/html": [
       "<pre style=\"white-space:pre;overflow-x:auto;line-height:normal;font-family:Menlo,'DejaVu Sans Mono',consolas,'Courier New',monospace\">┏━━━━━━━━━━━━━━━━━━━━━━━━━━━━━━━━━┳━━━━━━━━━━━━━━━━━━━━━━━━┳━━━━━━━━━━━━━━━┓\n",
       "┃<span style=\"font-weight: bold\"> Layer (type)                    </span>┃<span style=\"font-weight: bold\"> Output Shape           </span>┃<span style=\"font-weight: bold\">       Param # </span>┃\n",
       "┡━━━━━━━━━━━━━━━━━━━━━━━━━━━━━━━━━╇━━━━━━━━━━━━━━━━━━━━━━━━╇━━━━━━━━━━━━━━━┩\n",
       "│ conv1d_1 (<span style=\"color: #0087ff; text-decoration-color: #0087ff\">Conv1D</span>)               │ (<span style=\"color: #00d7ff; text-decoration-color: #00d7ff\">None</span>, <span style=\"color: #00af00; text-decoration-color: #00af00\">5</span>, <span style=\"color: #00af00; text-decoration-color: #00af00\">64</span>)          │           <span style=\"color: #00af00; text-decoration-color: #00af00\">192</span> │\n",
       "├─────────────────────────────────┼────────────────────────┼───────────────┤\n",
       "│ max_pooling1d_1 (<span style=\"color: #0087ff; text-decoration-color: #0087ff\">MaxPooling1D</span>)  │ (<span style=\"color: #00d7ff; text-decoration-color: #00d7ff\">None</span>, <span style=\"color: #00af00; text-decoration-color: #00af00\">2</span>, <span style=\"color: #00af00; text-decoration-color: #00af00\">64</span>)          │             <span style=\"color: #00af00; text-decoration-color: #00af00\">0</span> │\n",
       "├─────────────────────────────────┼────────────────────────┼───────────────┤\n",
       "│ lstm_2 (<span style=\"color: #0087ff; text-decoration-color: #0087ff\">LSTM</span>)                   │ (<span style=\"color: #00d7ff; text-decoration-color: #00d7ff\">None</span>, <span style=\"color: #00af00; text-decoration-color: #00af00\">2</span>, <span style=\"color: #00af00; text-decoration-color: #00af00\">50</span>)          │        <span style=\"color: #00af00; text-decoration-color: #00af00\">23,000</span> │\n",
       "├─────────────────────────────────┼────────────────────────┼───────────────┤\n",
       "│ lstm_3 (<span style=\"color: #0087ff; text-decoration-color: #0087ff\">LSTM</span>)                   │ (<span style=\"color: #00d7ff; text-decoration-color: #00d7ff\">None</span>, <span style=\"color: #00af00; text-decoration-color: #00af00\">50</span>)             │        <span style=\"color: #00af00; text-decoration-color: #00af00\">20,200</span> │\n",
       "├─────────────────────────────────┼────────────────────────┼───────────────┤\n",
       "│ dense_1 (<span style=\"color: #0087ff; text-decoration-color: #0087ff\">Dense</span>)                 │ (<span style=\"color: #00d7ff; text-decoration-color: #00d7ff\">None</span>, <span style=\"color: #00af00; text-decoration-color: #00af00\">1</span>)              │            <span style=\"color: #00af00; text-decoration-color: #00af00\">51</span> │\n",
       "└─────────────────────────────────┴────────────────────────┴───────────────┘\n",
       "</pre>\n"
      ],
      "text/plain": [
       "┏━━━━━━━━━━━━━━━━━━━━━━━━━━━━━━━━━┳━━━━━━━━━━━━━━━━━━━━━━━━┳━━━━━━━━━━━━━━━┓\n",
       "┃\u001b[1m \u001b[0m\u001b[1mLayer (type)                   \u001b[0m\u001b[1m \u001b[0m┃\u001b[1m \u001b[0m\u001b[1mOutput Shape          \u001b[0m\u001b[1m \u001b[0m┃\u001b[1m \u001b[0m\u001b[1m      Param #\u001b[0m\u001b[1m \u001b[0m┃\n",
       "┡━━━━━━━━━━━━━━━━━━━━━━━━━━━━━━━━━╇━━━━━━━━━━━━━━━━━━━━━━━━╇━━━━━━━━━━━━━━━┩\n",
       "│ conv1d_1 (\u001b[38;5;33mConv1D\u001b[0m)               │ (\u001b[38;5;45mNone\u001b[0m, \u001b[38;5;34m5\u001b[0m, \u001b[38;5;34m64\u001b[0m)          │           \u001b[38;5;34m192\u001b[0m │\n",
       "├─────────────────────────────────┼────────────────────────┼───────────────┤\n",
       "│ max_pooling1d_1 (\u001b[38;5;33mMaxPooling1D\u001b[0m)  │ (\u001b[38;5;45mNone\u001b[0m, \u001b[38;5;34m2\u001b[0m, \u001b[38;5;34m64\u001b[0m)          │             \u001b[38;5;34m0\u001b[0m │\n",
       "├─────────────────────────────────┼────────────────────────┼───────────────┤\n",
       "│ lstm_2 (\u001b[38;5;33mLSTM\u001b[0m)                   │ (\u001b[38;5;45mNone\u001b[0m, \u001b[38;5;34m2\u001b[0m, \u001b[38;5;34m50\u001b[0m)          │        \u001b[38;5;34m23,000\u001b[0m │\n",
       "├─────────────────────────────────┼────────────────────────┼───────────────┤\n",
       "│ lstm_3 (\u001b[38;5;33mLSTM\u001b[0m)                   │ (\u001b[38;5;45mNone\u001b[0m, \u001b[38;5;34m50\u001b[0m)             │        \u001b[38;5;34m20,200\u001b[0m │\n",
       "├─────────────────────────────────┼────────────────────────┼───────────────┤\n",
       "│ dense_1 (\u001b[38;5;33mDense\u001b[0m)                 │ (\u001b[38;5;45mNone\u001b[0m, \u001b[38;5;34m1\u001b[0m)              │            \u001b[38;5;34m51\u001b[0m │\n",
       "└─────────────────────────────────┴────────────────────────┴───────────────┘\n"
      ]
     },
     "metadata": {},
     "output_type": "display_data"
    },
    {
     "data": {
      "text/html": [
       "<pre style=\"white-space:pre;overflow-x:auto;line-height:normal;font-family:Menlo,'DejaVu Sans Mono',consolas,'Courier New',monospace\"><span style=\"font-weight: bold\"> Total params: </span><span style=\"color: #00af00; text-decoration-color: #00af00\">130,331</span> (509.11 KB)\n",
       "</pre>\n"
      ],
      "text/plain": [
       "\u001b[1m Total params: \u001b[0m\u001b[38;5;34m130,331\u001b[0m (509.11 KB)\n"
      ]
     },
     "metadata": {},
     "output_type": "display_data"
    },
    {
     "data": {
      "text/html": [
       "<pre style=\"white-space:pre;overflow-x:auto;line-height:normal;font-family:Menlo,'DejaVu Sans Mono',consolas,'Courier New',monospace\"><span style=\"font-weight: bold\"> Trainable params: </span><span style=\"color: #00af00; text-decoration-color: #00af00\">43,443</span> (169.70 KB)\n",
       "</pre>\n"
      ],
      "text/plain": [
       "\u001b[1m Trainable params: \u001b[0m\u001b[38;5;34m43,443\u001b[0m (169.70 KB)\n"
      ]
     },
     "metadata": {},
     "output_type": "display_data"
    },
    {
     "data": {
      "text/html": [
       "<pre style=\"white-space:pre;overflow-x:auto;line-height:normal;font-family:Menlo,'DejaVu Sans Mono',consolas,'Courier New',monospace\"><span style=\"font-weight: bold\"> Non-trainable params: </span><span style=\"color: #00af00; text-decoration-color: #00af00\">0</span> (0.00 B)\n",
       "</pre>\n"
      ],
      "text/plain": [
       "\u001b[1m Non-trainable params: \u001b[0m\u001b[38;5;34m0\u001b[0m (0.00 B)\n"
      ]
     },
     "metadata": {},
     "output_type": "display_data"
    },
    {
     "data": {
      "text/html": [
       "<pre style=\"white-space:pre;overflow-x:auto;line-height:normal;font-family:Menlo,'DejaVu Sans Mono',consolas,'Courier New',monospace\"><span style=\"font-weight: bold\"> Optimizer params: </span><span style=\"color: #00af00; text-decoration-color: #00af00\">86,888</span> (339.41 KB)\n",
       "</pre>\n"
      ],
      "text/plain": [
       "\u001b[1m Optimizer params: \u001b[0m\u001b[38;5;34m86,888\u001b[0m (339.41 KB)\n"
      ]
     },
     "metadata": {},
     "output_type": "display_data"
    }
   ],
   "source": [
    "model.summary()"
   ]
  },
  {
   "cell_type": "code",
   "execution_count": 62,
   "metadata": {},
   "outputs": [
    {
     "data": {
      "text/html": [
       "<pre style=\"white-space:pre;overflow-x:auto;line-height:normal;font-family:Menlo,'DejaVu Sans Mono',consolas,'Courier New',monospace\"><span style=\"font-weight: bold\">Model: \"sequential_3\"</span>\n",
       "</pre>\n"
      ],
      "text/plain": [
       "\u001b[1mModel: \"sequential_3\"\u001b[0m\n"
      ]
     },
     "metadata": {},
     "output_type": "display_data"
    },
    {
     "data": {
      "text/html": [
       "<pre style=\"white-space:pre;overflow-x:auto;line-height:normal;font-family:Menlo,'DejaVu Sans Mono',consolas,'Courier New',monospace\">┏━━━━━━━━━━━━━━━━━━━━━━━━━━━━━━━━━┳━━━━━━━━━━━━━━━━━━━━━━━━┳━━━━━━━━━━━━━━━┓\n",
       "┃<span style=\"font-weight: bold\"> Layer (type)                    </span>┃<span style=\"font-weight: bold\"> Output Shape           </span>┃<span style=\"font-weight: bold\">       Param # </span>┃\n",
       "┡━━━━━━━━━━━━━━━━━━━━━━━━━━━━━━━━━╇━━━━━━━━━━━━━━━━━━━━━━━━╇━━━━━━━━━━━━━━━┩\n",
       "│ lstm_6 (<span style=\"color: #0087ff; text-decoration-color: #0087ff\">LSTM</span>)                   │ (<span style=\"color: #00d7ff; text-decoration-color: #00d7ff\">None</span>, <span style=\"color: #00af00; text-decoration-color: #00af00\">6</span>, <span style=\"color: #00af00; text-decoration-color: #00af00\">50</span>)          │        <span style=\"color: #00af00; text-decoration-color: #00af00\">10,400</span> │\n",
       "├─────────────────────────────────┼────────────────────────┼───────────────┤\n",
       "│ lstm_7 (<span style=\"color: #0087ff; text-decoration-color: #0087ff\">LSTM</span>)                   │ (<span style=\"color: #00d7ff; text-decoration-color: #00d7ff\">None</span>, <span style=\"color: #00af00; text-decoration-color: #00af00\">50</span>)             │        <span style=\"color: #00af00; text-decoration-color: #00af00\">20,200</span> │\n",
       "├─────────────────────────────────┼────────────────────────┼───────────────┤\n",
       "│ dense_3 (<span style=\"color: #0087ff; text-decoration-color: #0087ff\">Dense</span>)                 │ (<span style=\"color: #00d7ff; text-decoration-color: #00d7ff\">None</span>, <span style=\"color: #00af00; text-decoration-color: #00af00\">1</span>)              │            <span style=\"color: #00af00; text-decoration-color: #00af00\">51</span> │\n",
       "└─────────────────────────────────┴────────────────────────┴───────────────┘\n",
       "</pre>\n"
      ],
      "text/plain": [
       "┏━━━━━━━━━━━━━━━━━━━━━━━━━━━━━━━━━┳━━━━━━━━━━━━━━━━━━━━━━━━┳━━━━━━━━━━━━━━━┓\n",
       "┃\u001b[1m \u001b[0m\u001b[1mLayer (type)                   \u001b[0m\u001b[1m \u001b[0m┃\u001b[1m \u001b[0m\u001b[1mOutput Shape          \u001b[0m\u001b[1m \u001b[0m┃\u001b[1m \u001b[0m\u001b[1m      Param #\u001b[0m\u001b[1m \u001b[0m┃\n",
       "┡━━━━━━━━━━━━━━━━━━━━━━━━━━━━━━━━━╇━━━━━━━━━━━━━━━━━━━━━━━━╇━━━━━━━━━━━━━━━┩\n",
       "│ lstm_6 (\u001b[38;5;33mLSTM\u001b[0m)                   │ (\u001b[38;5;45mNone\u001b[0m, \u001b[38;5;34m6\u001b[0m, \u001b[38;5;34m50\u001b[0m)          │        \u001b[38;5;34m10,400\u001b[0m │\n",
       "├─────────────────────────────────┼────────────────────────┼───────────────┤\n",
       "│ lstm_7 (\u001b[38;5;33mLSTM\u001b[0m)                   │ (\u001b[38;5;45mNone\u001b[0m, \u001b[38;5;34m50\u001b[0m)             │        \u001b[38;5;34m20,200\u001b[0m │\n",
       "├─────────────────────────────────┼────────────────────────┼───────────────┤\n",
       "│ dense_3 (\u001b[38;5;33mDense\u001b[0m)                 │ (\u001b[38;5;45mNone\u001b[0m, \u001b[38;5;34m1\u001b[0m)              │            \u001b[38;5;34m51\u001b[0m │\n",
       "└─────────────────────────────────┴────────────────────────┴───────────────┘\n"
      ]
     },
     "metadata": {},
     "output_type": "display_data"
    },
    {
     "data": {
      "text/html": [
       "<pre style=\"white-space:pre;overflow-x:auto;line-height:normal;font-family:Menlo,'DejaVu Sans Mono',consolas,'Courier New',monospace\"><span style=\"font-weight: bold\"> Total params: </span><span style=\"color: #00af00; text-decoration-color: #00af00\">91,955</span> (359.20 KB)\n",
       "</pre>\n"
      ],
      "text/plain": [
       "\u001b[1m Total params: \u001b[0m\u001b[38;5;34m91,955\u001b[0m (359.20 KB)\n"
      ]
     },
     "metadata": {},
     "output_type": "display_data"
    },
    {
     "data": {
      "text/html": [
       "<pre style=\"white-space:pre;overflow-x:auto;line-height:normal;font-family:Menlo,'DejaVu Sans Mono',consolas,'Courier New',monospace\"><span style=\"font-weight: bold\"> Trainable params: </span><span style=\"color: #00af00; text-decoration-color: #00af00\">30,651</span> (119.73 KB)\n",
       "</pre>\n"
      ],
      "text/plain": [
       "\u001b[1m Trainable params: \u001b[0m\u001b[38;5;34m30,651\u001b[0m (119.73 KB)\n"
      ]
     },
     "metadata": {},
     "output_type": "display_data"
    },
    {
     "data": {
      "text/html": [
       "<pre style=\"white-space:pre;overflow-x:auto;line-height:normal;font-family:Menlo,'DejaVu Sans Mono',consolas,'Courier New',monospace\"><span style=\"font-weight: bold\"> Non-trainable params: </span><span style=\"color: #00af00; text-decoration-color: #00af00\">0</span> (0.00 B)\n",
       "</pre>\n"
      ],
      "text/plain": [
       "\u001b[1m Non-trainable params: \u001b[0m\u001b[38;5;34m0\u001b[0m (0.00 B)\n"
      ]
     },
     "metadata": {},
     "output_type": "display_data"
    },
    {
     "data": {
      "text/html": [
       "<pre style=\"white-space:pre;overflow-x:auto;line-height:normal;font-family:Menlo,'DejaVu Sans Mono',consolas,'Courier New',monospace\"><span style=\"font-weight: bold\"> Optimizer params: </span><span style=\"color: #00af00; text-decoration-color: #00af00\">61,304</span> (239.47 KB)\n",
       "</pre>\n"
      ],
      "text/plain": [
       "\u001b[1m Optimizer params: \u001b[0m\u001b[38;5;34m61,304\u001b[0m (239.47 KB)\n"
      ]
     },
     "metadata": {},
     "output_type": "display_data"
    }
   ],
   "source": [
    "model_2.summary()"
   ]
  },
  {
   "cell_type": "markdown",
   "metadata": {},
   "source": [
    "---\n",
    "# Model Evaluation"
   ]
  },
  {
   "cell_type": "markdown",
   "metadata": {},
   "source": [
    "Use the trained model to make predictions for the test set."
   ]
  },
  {
   "cell_type": "code",
   "execution_count": 65,
   "metadata": {},
   "outputs": [
    {
     "name": "stdout",
     "output_type": "stream",
     "text": [
      "\u001b[1m13/13\u001b[0m \u001b[32m━━━━━━━━━━━━━━━━━━━━\u001b[0m\u001b[37m\u001b[0m \u001b[1m1s\u001b[0m 19ms/step\n",
      "\u001b[1m13/13\u001b[0m \u001b[32m━━━━━━━━━━━━━━━━━━━━\u001b[0m\u001b[37m\u001b[0m \u001b[1m0s\u001b[0m 19ms/step\n"
     ]
    }
   ],
   "source": [
    "# Write your code here. Add as many boxes as you need.\n",
    "\n",
    "y_pred = model.predict(X_test)\n",
    "y_pred2 = model_2.predict(X_test)"
   ]
  },
  {
   "cell_type": "markdown",
   "metadata": {},
   "source": [
    "Assess the performance of the model by using different metrics provided by the `scikit-learn` library."
   ]
  },
  {
   "cell_type": "code",
   "execution_count": 68,
   "metadata": {},
   "outputs": [
    {
     "name": "stdout",
     "output_type": "stream",
     "text": [
      "Root Mean Squared Error: 48.840006555603736\n",
      "Mean Absolute Error: 31.46668216705322\n",
      "R2 Score: -0.1503182893256534\n"
     ]
    }
   ],
   "source": [
    "# Write your code here. Add as many boxes as you need.\n",
    "from sklearn.metrics import mean_squared_error, r2_score, mean_absolute_error\n",
    "print('Root Mean Squared Error:', np.sqrt(mean_squared_error(Y_test, y_pred)))\n",
    "print('Mean Absolute Error:', mean_absolute_error(Y_test, y_pred))\n",
    "print('R2 Score:', r2_score(Y_test, y_pred))"
   ]
  },
  {
   "cell_type": "code",
   "execution_count": 69,
   "metadata": {},
   "outputs": [
    {
     "name": "stdout",
     "output_type": "stream",
     "text": [
      "Root Mean Squared Error: 45.26841695319663\n",
      "Mean Absolute Error: 28.50199544906616\n",
      "R2 Score: 0.011771868801113139\n"
     ]
    }
   ],
   "source": [
    "print('Root Mean Squared Error:', np.sqrt(mean_squared_error(Y_test, y_pred2)))\n",
    "print('Mean Absolute Error:', mean_absolute_error(Y_test, y_pred2))\n",
    "print('R2 Score:', r2_score(Y_test, y_pred2))"
   ]
  }
 ],
 "metadata": {
  "kernelspec": {
   "display_name": "Python 3 (ipykernel)",
   "language": "python",
   "name": "python3"
  },
  "language_info": {
   "codemirror_mode": {
    "name": "ipython",
    "version": 3
   },
   "file_extension": ".py",
   "mimetype": "text/x-python",
   "name": "python",
   "nbconvert_exporter": "python",
   "pygments_lexer": "ipython3",
   "version": "3.12.8"
  }
 },
 "nbformat": 4,
 "nbformat_minor": 4
}
